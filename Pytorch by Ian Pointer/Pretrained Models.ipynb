{
 "cells": [
  {
   "cell_type": "code",
   "execution_count": 60,
   "metadata": {},
   "outputs": [],
   "source": [
    "import torch\n",
    "import torchvision\n",
    "from torch.nn import functional as F\n",
    "import torchvision.transforms.functional as transFunc\n",
    "import torch.nn as nn\n",
    "import torch.optim as optim\n",
    "from torchvision import transforms\n",
    "from torchvision import models\n",
    "import matplotlib.pyplot as plt"
   ]
  },
  {
   "cell_type": "code",
   "execution_count": 85,
   "metadata": {},
   "outputs": [],
   "source": [
    "#Basic Transforms\n",
    "transform = transforms.Compose([transforms.Resize(16), transforms.ToTensor(), transforms.Normalize((0.5, 0.5, 0.5),(0.5, 0.5, 0.5))])\n",
    "#Resize to 64 is updated, our images are 32 x 32!\n",
    "#Start Small and Get Bigger, means keeps the size of image 16, then 32 and so on and check the performance of the model"
   ]
  },
  {
   "cell_type": "code",
   "execution_count": 86,
   "metadata": {},
   "outputs": [
    {
     "name": "stdout",
     "output_type": "stream",
     "text": [
      "Files already downloaded and verified\n"
     ]
    }
   ],
   "source": [
    "trainset = torchvision.datasets.CIFAR10(root='/home/mayur/Desktop/Pytorch/data', train=True,\n",
    "                                        download=True, transform=transform)\n",
    "trainloader = torch.utils.data.DataLoader(trainset, batch_size=32,\n",
    "                                          shuffle=True, num_workers=2)"
   ]
  },
  {
   "cell_type": "code",
   "execution_count": 87,
   "metadata": {},
   "outputs": [
    {
     "name": "stdout",
     "output_type": "stream",
     "text": [
      "Files already downloaded and verified\n"
     ]
    }
   ],
   "source": [
    "testset = torchvision.datasets.CIFAR10(root='/home/mayur/Desktop/Pytorch/data', train=False,\n",
    "                                       download=True, transform=transform)\n",
    "testloader = torch.utils.data.DataLoader(testset, batch_size=32,\n",
    "                                         shuffle=False, num_workers=2)"
   ]
  },
  {
   "cell_type": "markdown",
   "metadata": {},
   "source": [
    "Changes in image size after resize transform.\n",
    "\n",
    "```python\n",
    "img, label = cifar_2[0]\n",
    "print(img.shape)\n",
    "```"
   ]
  },
  {
   "cell_type": "code",
   "execution_count": 88,
   "metadata": {},
   "outputs": [],
   "source": [
    "#Label Mapping - classification of two class \n",
    "\n",
    "#CIFAR has 10 classes, we are restricting it into 2 classes\n",
    "label_map = {0: 0, 2: 1}\n",
    "class_names = ['airplane', 'bird']\n",
    "cifar_2 = [(img, label_map[label1]) for img, label1 in trainset if label1 in [0,2]]\n",
    "cifar2_val = [(img, label_map[label]) for img, label in testset if label in [0, 2]]\n",
    "\n",
    "trainloader = torch.utils.data.DataLoader(cifar_2, batch_size=64,shuffle=True)\n",
    "testloader = torch.utils.data.DataLoader(cifar2_val, batch_size=64,shuffle=False)"
   ]
  },
  {
   "cell_type": "code",
   "execution_count": 89,
   "metadata": {},
   "outputs": [],
   "source": [
    "transfer_model = models.resnet34(pretrained=True)"
   ]
  },
  {
   "cell_type": "code",
   "execution_count": 90,
   "metadata": {},
   "outputs": [],
   "source": [
    "# Freezing exisiting Parameters, By keeping parameters as false the resnet's parameter won't under go backprop !\n",
    "for name, param in transfer_model.named_parameters():\n",
    "    param.requires_grad = False"
   ]
  },
  {
   "cell_type": "markdown",
   "metadata": {},
   "source": [
    "TIP\n",
    "\n",
    "You might not want to freeze the BatchNorm layers in a model, as they will be trained to approximate the mean and standard deviation of the dataset that the model was originally trained on, not the dataset that you want to fine-tune on. Some of the signal from your data may end up being lost as BatchNorm corrects your input. You can look at the model structure and freeze only layers that aren’t BatchNorm like this:"
   ]
  },
  {
   "cell_type": "code",
   "execution_count": 91,
   "metadata": {},
   "outputs": [],
   "source": [
    "transfer_model = models.resnet34(pretrained=True)\n",
    "for name, param in transfer_model.named_parameters():\n",
    "    if ('bn' not in name):\n",
    "        param.requires_grad = False"
   ]
  },
  {
   "cell_type": "markdown",
   "metadata": {},
   "source": [
    "### Adding a New Layer to pretrained Model"
   ]
  },
  {
   "cell_type": "code",
   "execution_count": 92,
   "metadata": {},
   "outputs": [
    {
     "name": "stdout",
     "output_type": "stream",
     "text": [
      "torch.Size([1000, 512])\n",
      "torch.Size([1000])\n"
     ]
    }
   ],
   "source": [
    "for name, param in transfer_model.named_parameters():\n",
    "    if ('fc' in name):\n",
    "        print(param.shape)"
   ]
  },
  {
   "cell_type": "code",
   "execution_count": 93,
   "metadata": {},
   "outputs": [],
   "source": [
    "transfer_model.fc = nn.Sequential(nn.Linear(transfer_model.fc.in_features, 500), nn.ReLU(), nn.Dropout(), nn.Linear(500, 2))"
   ]
  },
  {
   "cell_type": "code",
   "execution_count": 94,
   "metadata": {},
   "outputs": [],
   "source": [
    "device = torch.device('cuda:0' if torch.cuda.is_available else 'cpu')"
   ]
  },
  {
   "cell_type": "markdown",
   "metadata": {},
   "source": [
    "### Finding Better Learning Rate"
   ]
  },
  {
   "cell_type": "markdown",
   "metadata": {},
   "source": [
    "The idea is quite simple: over the course of an epoch, start out with a small learning rate and increase to a higher learning rate over each mini-batch, resulting in a high rate at the end of the epoch. Calculate the loss for each rate and then, looking at a plot, pick the learning rate that gives the greatest decline. "
   ]
  },
  {
   "cell_type": "code",
   "execution_count": 95,
   "metadata": {},
   "outputs": [],
   "source": [
    "### Finding learning rate implemented in fast.ai\n",
    "\n",
    "import math\n",
    "def find_lr(model, loss_fn, optimizer, init_value=1e-8, final_value=10.0):\n",
    "    number_in_epoch = len(trainloader) - 1\n",
    "    update_step = (final_value / init_value) ** (1 / number_in_epoch)\n",
    "    lr = init_value\n",
    "    optimizer.param_groups[0][\"lr\"] = lr\n",
    "    best_loss = 0.0\n",
    "    batch_num = 0\n",
    "    losses = []\n",
    "    log_lrs = []\n",
    "    for data in trainloader:\n",
    "        batch_num += 1\n",
    "        inputs, labels = data\n",
    "        inputs, labels = inputs.to(device), labels.to(device)\n",
    "        optimizer.zero_grad()\n",
    "        outputs = model(inputs)\n",
    "        loss = loss_fn(outputs, labels)\n",
    "        # Crash out if loss explodes\n",
    "\n",
    "        if batch_num > 1 and loss > 4 * best_loss:\n",
    "            return log_lrs[10:-5], losses[10:-5]\n",
    "\n",
    "        # Record the best loss\n",
    "\n",
    "        if loss < best_loss or batch_num == 1:\n",
    "            best_loss = loss\n",
    "\n",
    "        # Store the values\n",
    "\n",
    "        losses.append(loss)\n",
    "        log_lrs.append(math.log10(lr))\n",
    "\n",
    "        # Do the backward pass and optimize\n",
    "\n",
    "        loss.backward()\n",
    "        optimizer.step()\n",
    "\n",
    "        # Update the lr for the next step and store\n",
    "\n",
    "        lr *= update_step\n",
    "        optimizer.param_groups[0][\"lr\"] = lr\n",
    "    return log_lrs[10:-5], losses[10:-5]"
   ]
  },
  {
   "cell_type": "code",
   "execution_count": 96,
   "metadata": {},
   "outputs": [
    {
     "data": {
      "text/plain": [
       "[<matplotlib.lines.Line2D at 0x7fe08e0865d0>]"
      ]
     },
     "execution_count": 96,
     "metadata": {},
     "output_type": "execute_result"
    },
    {
     "data": {
      "image/png": "[encoded data removed]",
      "text/plain": [
       "<Figure size 432x288 with 1 Axes>"
      ]
     },
     "metadata": {
      "needs_background": "light"
     },
     "output_type": "display_data"
    }
   ],
   "source": [
    "optimizer = optim.Adam(transfer_model.parameters(), lr=0.001)\n",
    "transfer_model.to(device)\n",
    "logs,losses = find_lr(transfer_model, torch.nn.CrossEntropyLoss(), optimizer)\n",
    "plt.plot(logs,losses)\n",
    "#near 1e-2"
   ]
  },
  {
   "cell_type": "code",
   "execution_count": 97,
   "metadata": {},
   "outputs": [],
   "source": [
    "def train(model, optimizer, loss_fn, trainloader, testloader, n_epochs, device):\n",
    "    for epoch in range(1, n_epochs+1):\n",
    "        training_loss = 0.0\n",
    "        valid_loss = 0.0\n",
    "        \n",
    "        model.train()\n",
    "        for batch in trainloader:\n",
    "            img, label = batch\n",
    "            img = img.to(device)\n",
    "            label = label.to(device)\n",
    "            \n",
    "            output = model(img)\n",
    "            optimizer.zero_grad()\n",
    "            loss = loss_fn(output, label)\n",
    "            loss.backward()\n",
    "            optimizer.step()\n",
    "            training_loss += loss.data.item()\n",
    "        training_loss /= len(trainset)\n",
    "        \n",
    "        model.eval()\n",
    "        num_correct = 0\n",
    "        num_examples = 0\n",
    "        for batch in testloader:\n",
    "            img, label = batch\n",
    "            img = img.to(device)\n",
    "            label = label.to(device)\n",
    "            \n",
    "            output = model(img)\n",
    "            loss = loss_fn(output, label)\n",
    "            valid_loss += loss.data.item()\n",
    "            correct = torch.eq(torch.max(F.softmax(output),dim=1)[1], label).view(-1)\n",
    "            num_correct += torch.sum(correct).item()\n",
    "            num_examples += correct.shape[0]\n",
    "            \n",
    "        valid_loss/=len(testset)\n",
    "        \n",
    "        print(f'Epoch: {epoch}, Training Loss: {training_loss:.3f}, Validation Loss: {valid_loss:.3f}, Accuracy: {num_correct/num_examples}')"
   ]
  },
  {
   "cell_type": "code",
   "execution_count": 98,
   "metadata": {},
   "outputs": [
    {
     "name": "stderr",
     "output_type": "stream",
     "text": [
      "/opt/anaconda3/lib/python3.7/site-packages/ipykernel_launcher.py:31: UserWarning: Implicit dimension choice for softmax has been deprecated. Change the call to include dim=X as an argument.\n"
     ]
    },
    {
     "name": "stdout",
     "output_type": "stream",
     "text": [
      "Epoch: 1, Training Loss: 0.001, Validation Loss: 0.001, Accuracy: 0.8635\n",
      "Epoch: 2, Training Loss: 0.001, Validation Loss: 0.001, Accuracy: 0.875\n",
      "Epoch: 3, Training Loss: 0.001, Validation Loss: 0.001, Accuracy: 0.857\n",
      "Epoch: 4, Training Loss: 0.001, Validation Loss: 0.001, Accuracy: 0.864\n",
      "Epoch: 5, Training Loss: 0.001, Validation Loss: 0.001, Accuracy: 0.882\n",
      "Epoch: 6, Training Loss: 0.001, Validation Loss: 0.001, Accuracy: 0.8715\n",
      "Epoch: 7, Training Loss: 0.001, Validation Loss: 0.001, Accuracy: 0.886\n",
      "Epoch: 8, Training Loss: 0.001, Validation Loss: 0.001, Accuracy: 0.8885\n",
      "Epoch: 9, Training Loss: 0.001, Validation Loss: 0.001, Accuracy: 0.8875\n",
      "Epoch: 10, Training Loss: 0.001, Validation Loss: 0.001, Accuracy: 0.8745\n",
      "Epoch: 11, Training Loss: 0.001, Validation Loss: 0.001, Accuracy: 0.8825\n",
      "Epoch: 12, Training Loss: 0.001, Validation Loss: 0.001, Accuracy: 0.89\n",
      "Epoch: 13, Training Loss: 0.001, Validation Loss: 0.004, Accuracy: 0.7535\n",
      "Epoch: 14, Training Loss: 0.001, Validation Loss: 0.001, Accuracy: 0.883\n",
      "Epoch: 15, Training Loss: 0.001, Validation Loss: 0.001, Accuracy: 0.8925\n",
      "Epoch: 16, Training Loss: 0.001, Validation Loss: 0.001, Accuracy: 0.8985\n",
      "Epoch: 17, Training Loss: 0.001, Validation Loss: 0.001, Accuracy: 0.8915\n",
      "Epoch: 18, Training Loss: 0.001, Validation Loss: 0.001, Accuracy: 0.8985\n",
      "Epoch: 19, Training Loss: 0.001, Validation Loss: 0.001, Accuracy: 0.8865\n",
      "Epoch: 20, Training Loss: 0.001, Validation Loss: 0.001, Accuracy: 0.9\n"
     ]
    }
   ],
   "source": [
    "### Pretrained Model\n",
    "optimizer = optim.Adam(transfer_model.parameters(), lr=0.01)\n",
    "transfer_model.to(device)\n",
    "train(transfer_model, optimizer, torch.nn.CrossEntropyLoss(), trainloader, testloader, n_epochs=20, device=device)"
   ]
  },
  {
   "cell_type": "markdown",
   "metadata": {},
   "source": [
    "### Differential Learning Rate"
   ]
  },
  {
   "cell_type": "markdown",
   "metadata": {},
   "source": [
    "Fine-tune some of the layers of, say, the ResNet model we’re using. Perhaps adding some training to the layers just preceding our classifier will make our model just a little more accurate. But as those preceding layers have already been trained on the ImageNet dataset, maybe they need only a little bit of training as compared to our newer layers. We are training existing layers of resnet with different learning rate."
   ]
  },
  {
   "cell_type": "code",
   "execution_count": 99,
   "metadata": {},
   "outputs": [],
   "source": [
    "optimizer = optim.Adam([\n",
    "{ 'params': transfer_model.layer4.parameters(), 'lr': 1e-2 /3},\n",
    "{ 'params': transfer_model.layer3.parameters(), 'lr': 1e-2 /9},\n",
    "], lr=1e-2)"
   ]
  },
  {
   "cell_type": "code",
   "execution_count": 100,
   "metadata": {},
   "outputs": [],
   "source": [
    "unfreeze_layers = [transfer_model.layer3, transfer_model.layer4]\n",
    "for layer in unfreeze_layers:\n",
    "    for param in layer.parameters():\n",
    "        param.requires_grad = True"
   ]
  },
  {
   "cell_type": "code",
   "execution_count": 101,
   "metadata": {},
   "outputs": [
    {
     "name": "stderr",
     "output_type": "stream",
     "text": [
      "/opt/anaconda3/lib/python3.7/site-packages/ipykernel_launcher.py:31: UserWarning: Implicit dimension choice for softmax has been deprecated. Change the call to include dim=X as an argument.\n"
     ]
    },
    {
     "name": "stdout",
     "output_type": "stream",
     "text": [
      "Epoch: 1, Training Loss: 0.001, Validation Loss: 0.003, Accuracy: 0.6995\n",
      "Epoch: 2, Training Loss: 0.001, Validation Loss: 0.001, Accuracy: 0.886\n",
      "Epoch: 3, Training Loss: 0.001, Validation Loss: 0.001, Accuracy: 0.8965\n",
      "Epoch: 4, Training Loss: 0.001, Validation Loss: 0.001, Accuracy: 0.8985\n",
      "Epoch: 5, Training Loss: 0.001, Validation Loss: 0.001, Accuracy: 0.911\n",
      "Epoch: 6, Training Loss: 0.001, Validation Loss: 0.001, Accuracy: 0.902\n",
      "Epoch: 7, Training Loss: 0.001, Validation Loss: 0.001, Accuracy: 0.8945\n",
      "Epoch: 8, Training Loss: 0.001, Validation Loss: 0.001, Accuracy: 0.903\n",
      "Epoch: 9, Training Loss: 0.001, Validation Loss: 0.001, Accuracy: 0.903\n",
      "Epoch: 10, Training Loss: 0.001, Validation Loss: 0.001, Accuracy: 0.904\n",
      "Epoch: 11, Training Loss: 0.001, Validation Loss: 0.001, Accuracy: 0.903\n",
      "Epoch: 12, Training Loss: 0.001, Validation Loss: 0.077, Accuracy: 0.772\n",
      "Epoch: 13, Training Loss: 0.001, Validation Loss: 0.001, Accuracy: 0.8545\n",
      "Epoch: 14, Training Loss: 0.001, Validation Loss: 0.003, Accuracy: 0.617\n",
      "Epoch: 15, Training Loss: 0.001, Validation Loss: 0.001, Accuracy: 0.889\n",
      "Epoch: 16, Training Loss: 0.001, Validation Loss: 0.001, Accuracy: 0.8965\n",
      "Epoch: 17, Training Loss: 0.001, Validation Loss: 0.001, Accuracy: 0.883\n",
      "Epoch: 18, Training Loss: 0.001, Validation Loss: 0.001, Accuracy: 0.8895\n",
      "Epoch: 19, Training Loss: 0.001, Validation Loss: 0.001, Accuracy: 0.8865\n",
      "Epoch: 20, Training Loss: 0.001, Validation Loss: 0.001, Accuracy: 0.8865\n"
     ]
    }
   ],
   "source": [
    "### Pretrained Model\n",
    "optimizer = optim.Adam(transfer_model.parameters(), lr=0.01)\n",
    "transfer_model.to(device)\n",
    "train(transfer_model, optimizer, torch.nn.CrossEntropyLoss(), trainloader, testloader, n_epochs=20, device=device)"
   ]
  },
  {
   "cell_type": "markdown",
   "metadata": {},
   "source": [
    "### Data Augmentation\n",
    "\n",
    ">**Color Jitter** - randomly changes the brightness, contrast, saturation, and hue of an image. For brightness, contrast, and saturation, you can supply either a float or a tuple of floats, all nonnegative in the range 0 to 1, and the randomness will either be between 0 and the supplied float or it will use the tuple to generate randomness between the supplied pair of floats. For hue, a float or float tuple between –0.5 and 0.5 is required, and it will generate random hue adjustments between [-hue,hue] or [min, max]\n",
    "```python\n",
    "torchvision.transforms.ColorJitter(brightness=0, contrast=0, saturation=0, hue=0)\n",
    "```\n",
    ">**Flip** - If you want to flip your image, these two transforms randomly reflect an image on either the horizontal or vertical axis:\n",
    "```python\n",
    "torchvision.transforms.RandomHorizontalFlip(p=0.5)\n",
    "\n",
    "torchvision.transforms.RandomVerticalFlip(p=0.5)\n",
    "````\n",
    ">**RandomGrayscale** is a similar type of transformation, except that it randomly turns the image grayscale, depending on the parameter p (the default is 10%):\n",
    "```python\n",
    " torchvision.transforms.RandomGrayscale(p=0.1)\n",
    "``` \n",
    ">**RandomCrop** and **RandomResizeCrop**, as you might expect, perform random crops on the image of size, which can either be an int for height and width, or a tuple containing different heights and widths. \n",
    ">RandomResizeCrop is using Bilinear interpolation, but you can also select nearest neighbor or bicubic interpolation by changing the interpolation parameter. See the PIL filters page for further details. \n",
    ">By default, RandomResize is using constant padding, which fills out the otherwise empty pixels beyond the image with the value given in fill. However, I recommend that you use the reflect padding instead, as empirically it seems to work a little better than just throwing in empty constant space. \n",
    "```python\n",
    "torchvision.transforms.RandomCrop(size, padding=None, pad_if_needed=False, fill=0, padding_mode='constant')\n",
    "\n",
    "torchvision.transforms.RandomResizedCrop(size, scale=(0.08, 1.0), ratio=(0.75, 1.3333333333333333), interpolation=2)\n",
    "```\n",
    ">**RandomRotation**, If you’d like to randomly rotate an image, RandomRotation will vary between [-degrees, degrees] if degrees is a single float or int, or (min,max) if it is a tuple:\n",
    ">If expand is set to True, this function will expand the output image so that it can include the entire rotation; by default, it’s set to crop to within the input dimensions. You can specify a PIL resampling filter, and optionally provide an (x,y) tuple for the center of rotation; otherwise the transform will rotate about the center of the image.\n",
    "```python\n",
    "torchvision.transforms.RandomRotation(degrees, resample=False,expand=False, center=None)\n",
    "```\n",
    ">**Pad** is a general-purpose padding transform that adds padding (extra height and width) onto the borders of an image. A single value in padding will apply padding on that length in all directions. A two-tuple padding will produce padding in the length of (left/right, top/bottom), and a four-tuple will produce padding for (left, top, right, bottom). By default, padding is set to constant mode, which copies the value of fill into the padding slots. The other choices are edge, which pads the last values of the edge of the image into the padding length; reflect, which reflects the values of the image (except the edge) into the border; and symmetric, which is reflection but includes the last value of the image at the edge. \n",
    "```python\n",
    "torchvision.transforms.Pad(padding, fill=0, padding_mode=constant)\n",
    "```\n",
    ">**RandomAffine** allows you to specify random affine translations of the image (scaling, rotations, translations, and/or shearing, or any combination).\n",
    "The degrees parameter is either a single float or int or a tuple. In single form, it produces random rotations between (–degrees, degrees). With a tuple, it will produce random rotations between (min, max). degrees has to be explicitly set to prevent rotations from occurring—there’s no default setting. translate is a tuple of two multipliers (horizontal_multipler, vertical_multiplier). At transform time, a horizontal shift, dx, is sampled in the range –image_width × horizontal_multiplier < dx < img_width × horizontal_width, and a vertical shift is sampled in the same way with respect to the image height and the vertical multiplier. Scaling is handled by another tuple, (min, max), and a uniform scaling factor is randomly sampled from those. Shearing can be either a single float/int or a tuple, and randomly samples in the same manner as the degrees parameter. Finally, resample allows you to optionally provide a PIL resampling filter, and fillcolor is an optional int specifying a fill color for areas inside the final image that lie outside the final transform.\n",
    "```python\n",
    "torchvision.transforms.RandomAffine(degrees, translate=None, scale=None, shear=None, resample=False, fillcolor=0)\n",
    "```\n",
    "    Widely Done Transformations -  Random flips, color jittering, rotation, and crops to start."
   ]
  },
  {
   "cell_type": "markdown",
   "metadata": {},
   "source": [
    "### Custom Transforms\n",
    "\n",
    ">**Color Spaces and Lambda Transforms**, This may seem a little odd to even bring up, but so far all our image work has been in the fairly standard 24-bit RGB color space, where every pixel has an 8-bit red, green, and blue value to indicate the color of that pixel. However, other color spaces are available!\n",
    "\n",
    ">A popular alternative is HSV, which has three 8-bit values for hue, saturation, and value. Some people feel this system more accurately models human vision than the traditional RGB color space. But why does this matter? A mountain in RGB is a mountain in HSV, right?\n",
    "\n",
    ">Well, there’s some evidence from recent deep learning work in colorization that other color spaces can produce slightly higher accuracy than RGB. A mountain may be a mountain, but the tensor that gets formed in each space’s representation will be different, and one space may capture something about your data better than another.\n",
    "\n",
    ">When combined with ensembles, you could easily create a series of models that combines the results of training on RGB, HSV, YUV, and LAB color spaces to wring out a few more percentage points of accuracy from your prediction pipeline.\n",
    "\n",
    ">One slight problem is that PyTorch doesn’t offer a transform that can do this. But it does provide a couple of tools that we can use to randomly change an image from standard RGB into HSV (or another color space). First, if we look in the PIL documentation, we see that we can use Image.convert() to translate a PIL image from one color space to another. We could write a custom transform class to carry out this conversion, but PyTorch adds a transforms.Lambda class so that we can easily wrap any function and make it available to the transform pipeline. \n",
    "\n",
    "```python\n",
    "def _random_colour_space(x):\n",
    "    output = x.convert('HSV')\n",
    "    return output\n",
    "```\n",
    "\n",
    ">This is then wrapped in a transforms.Lambda class and can be used in any standard transformation pipeline like we’ve seen before:\n",
    "\n",
    "```python\n",
    "colour_transform = transforms.Lambda(lambda x: _random_colour_space(x))\n",
    "```\n",
    ">That’s fine if we want to convert every image into HSV, but really we don’t want that. We’d like it to randomly change images in each batch, so it’s probable that the image will be presented in different color spaces in different epochs. We could update our original function to generate a random number and use that to generate a random probability of changing the image, but instead we’re even lazier and use RandomApply:\n",
    "\n",
    "```python\n",
    "random_colour_transform = torchvision.transforms.RandomApply([colour_transform])\n",
    "```\n",
    "\n",
    ">By default, RandomApply fills in a parameter p with a value of 0.5, so there’s a 50/50 chance of the transform being applied. Experiment with adding more color spaces and the probability of applying the transformation to see what effect it has on our cat and fish problem."
   ]
  },
  {
   "cell_type": "markdown",
   "metadata": {},
   "source": [
    "### Custom Transform Classes\n",
    "\n",
    ">Sometimes a simple lambda isn’t enough; maybe we have some initialization or state that we want to keep track of, for example. In these cases, we can create a custom transform that operates on either PIL image data or a tensor. Such a class has to implement two methods: \\__call__, which the transform pipeline will invoke during the transformation process; and \\__repr__, which should return a string representation of the transform, along with any state that may be useful for diagnostic purposes.\n",
    "\n",
    ">In the following code, we implement a transform class that adds random Gaussian noise to a tensor. When the class is initialized, we pass in the mean and standard distribution of the noise we require, and during the \\__call__ method, we sample from this distribution and add it to the incoming tensor:\n",
    "\n",
    "```python\n",
    "class Noise():\n",
    "    \"\"\"Adds gaussian noise to a tensor.\n",
    "\n",
    "        >>> transforms.Compose([\n",
    "        >>>     transforms.ToTensor(),\n",
    "        >>>     Noise(0.1, 0.05)),\n",
    "        >>> ])\n",
    "\n",
    "    \"\"\"\n",
    "    def __init__(self, mean, stddev):\n",
    "        self.mean = mean\n",
    "        self.stddev = stddev\n",
    "\n",
    "    def __call__(self, tensor):\n",
    "        noise = torch.zeros_like(tensor).normal_(self.mean, self.stddev)\n",
    "        return tensor.add_(noise)\n",
    "\n",
    "    def __repr__(self):\n",
    "        repr = f\"{self.__class__.__name__  }(mean={self.mean},\n",
    "               stddev={self.stddev})\"\n",
    "        return repr\n",
    "````\n",
    ">If we add this to a pipeline, we can see the results of the \\__repr__ method being called:\n",
    "\n",
    "```python\n",
    "transforms.Compose([Noise(0.1, 0.05)])\n",
    ">> Compose(\n",
    "    Noise(mean=0.1,sttdev=0.05)\n",
    ")\n",
    "```"
   ]
  },
  {
   "cell_type": "markdown",
   "metadata": {},
   "source": [
    "**Start Small and Get Bigger!**\n",
    "\n",
    "Here’s a tip that seems odd, but obtains real results: start small and get bigger. What I mean is if you’re training on 256 × 256 images, create a few more datasets in which the images have been scaled to 64 × 64 and 128 × 128. Create your model with the 64 × 64 dataset, fine-tune as normal, and then train the exact same model with the 128 × 128 dataset. Not from scratch, but using the parameters that have already been trained. Once it looks like you’ve squeezed the most out of the 128 × 128 data, move on to your target 256 × 256 data. You’ll probably find a percentage point or two improvement in accuracy.\n",
    "\n",
    "While we don’t know exactly why this works, the working theory is that by training at the lower resolutions, the model learns about the overall structure of the image and can refine that knowledge as the incoming images expand. But that’s just a theory. However, that doesn’t stop it from being a good little trick to have up your sleeve when you need to squeeze every last bit of performance from a model.\n",
    "\n",
    "If you don’t want to have multiple copies of a dataset hanging around in storage, you can use torchvision transforms to do this on the fly using the Resize function:\n",
    "```python\n",
    "resize = transforms.Compose([ transforms.Resize(64),\n",
    " …_other augmentation transforms_…\n",
    " transforms.ToTensor(),\n",
    " transforms.Normalize([0.485, 0.456, 0.406], [0.229, 0.224, 0.225])\n",
    "```\n",
    "The penalty you pay here is that you end up spending more time in training, as PyTorch has to apply the resize every time. If you resized all the images beforehand, you’d likely get a quicker training run, at the expense of filling up your hard drive. But isn’t that trade-off always the way?\n",
    "\n",
    "The concept of starting small and then getting bigger also applies to architectures. Using a ResNet architecture like ResNet-18 or ResNet-34 to test out approaches to transforms and get a feel for how training is working provides a much tighter feedback loop than if you start out using a ResNet-101 or ResNet-152 model. Start small, build upward, and you can potentially reuse the smaller model runs at prediction time by adding them to an ensemble model.\n",
    "\n",
    "Ensembles\n",
    "What’s better than one model making predictions? Well, how about a bunch of them? Ensembling is a technique that is fairly common in more traditional machine learning methods, and it works rather well in deep learning too. The idea is to obtain a prediction from a series of models, and combine those predictions to produce a final answer. Because different models will have different strengths in different areas, hopefully a combination of all their predictions will produce a more accurate result than one model alone.\n",
    "\n",
    "There are plenty of approaches to ensembles, and we won’t go into all of them here. Instead, here’s a simple way of getting started with ensembles, one that has eeked out another 1% of accuracy in my experience; simply average the predictions:\n",
    "\n",
    "**Assuming you have a list of models in models, and input is your input tensor**\n",
    "```python\n",
    "predictions = [m[i].fit(input) for i in models]\n",
    "avg_prediction = torch.stack(b).mean(0).argmax()\n",
    "```\n",
    "\n",
    "The stack method concatenates the array of tensors together, so if we were working on the cat/fish problem and had four models in our ensemble, we’d end up with a 4 × 2 tensor constructed from the four 1 × 2 tensors. And mean does what you’d expect, taking the average, although we have to pass in a dimension of 0 to ensure that it takes an average across the first dimension instead of simply adding up all the tensor elements and producing a scalar output. Finally, argmax picks out the tensor index with the highest element, as you’ve seen before.\n",
    "\n",
    "It’s easy to imagine more complex approaches. Perhaps weights could be added to each individual model’s prediction, and those weights adjusted if a model gets an answer right or wrong. What models should you use? I’ve found that a combination of ResNets (e.g., 34, 50, 101) work quite well, and there’s nothing to stop you from saving your model regularly and using different snapshots of the model across time in your ensemble!"
   ]
  },
  {
   "cell_type": "code",
   "execution_count": null,
   "metadata": {},
   "outputs": [],
   "source": []
  }
 ],
 "metadata": {
  "kernelspec": {
   "display_name": "Python 3",
   "language": "python",
   "name": "python3"
  },
  "language_info": {
   "codemirror_mode": {
    "name": "ipython",
    "version": 3
   },
   "file_extension": ".py",
   "mimetype": "text/x-python",
   "name": "python",
   "nbconvert_exporter": "python",
   "pygments_lexer": "ipython3",
   "version": "3.7.6"
  }
 },
 "nbformat": 4,
 "nbformat_minor": 4
}
