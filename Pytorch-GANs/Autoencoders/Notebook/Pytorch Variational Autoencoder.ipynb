{
 "cells": [
  {
   "cell_type": "markdown",
   "metadata": {},
   "source": [
    "### **Loading Libraries**"
   ]
  },
  {
   "cell_type": "code",
   "execution_count": 1,
   "metadata": {},
   "outputs": [],
   "source": [
    "import torch\n",
    "import torchvision\n",
    "from torch.nn import functional as F\n",
    "import torch.optim as optim\n",
    "from torchvision import transforms\n",
    "from torchvision import datasets\n",
    "import torch.nn as nn\n",
    "import numpy as np\n",
    "import time\n",
    "\n",
    "import matplotlib.pyplot as plt"
   ]
  },
  {
   "cell_type": "markdown",
   "metadata": {},
   "source": [
    "### **Variational Autoencoder Class**"
   ]
  },
  {
   "cell_type": "code",
   "execution_count": 2,
   "metadata": {},
   "outputs": [],
   "source": [
    "class VariationalAutoencoders(nn.Module):\n",
    "    def __init__(self, n_channel, z_dim):\n",
    "        super().__init__()\n",
    "        self.encoder_conv1 = nn.Conv2d(1, n_channel, kernel_size=3, stride=1, padding=1)\n",
    "        self.encoder_conv2 = nn.Conv2d(n_channel, n_channel*2, kernel_size=3, stride=2, padding=1)\n",
    "        self.encoder_conv3 = nn.Conv2d(n_channel*2, n_channel*2, kernel_size=3, stride=2, padding=1)\n",
    "        self.encoder_conv4 = nn.Conv2d(n_channel*2, n_channel*2, kernel_size=3, stride=1, padding=1)\n",
    "        self.mu = nn.Linear(3136,z_dim)\n",
    "        self.log_var = nn.Linear(3136,z_dim)\n",
    "        self.fc1 = nn.Linear(z_dim, 3136)\n",
    "        self.decoder_conv1 = nn.ConvTranspose2d(n_channel*2,n_channel*2, kernel_size=3, stride=1, padding=1)\n",
    "        self.decoder_conv2 = nn.ConvTranspose2d(n_channel*2, n_channel*2, kernel_size=3, stride=2, padding=1)\n",
    "        self.decoder_conv3 = nn.ConvTranspose2d(n_channel*2, n_channel, kernel_size=3, stride=2, padding=1)\n",
    "        self.decoder_conv4 = nn.ConvTranspose2d(n_channel, 1, kernel_size=3, stride=1, padding=1)\n",
    "    \n",
    "    def forward(self, encoder_input):\n",
    "        # Encoder\n",
    "        x = F.leaky_relu(self.encoder_conv1(encoder_input))\n",
    "        upsample1_size = x.size()\n",
    "        x = F.leaky_relu(self.encoder_conv2(x))\n",
    "        upsample2_size = x.size()\n",
    "        x = F.leaky_relu(self.encoder_conv3(x))\n",
    "        x = F.leaky_relu(self.encoder_conv4(x))\n",
    "        x = x.view(-1, 3136)\n",
    "        mu = self.mu(x)\n",
    "        log_var = self.log_var(x)\n",
    "        epsilon = torch.randn(mu.size())\n",
    "        encoder_output = mu + torch.exp(log_var / 2) * epsilon\n",
    "\n",
    "        # Decoder\n",
    "        x = F.relu(self.fc1(encoder_output))\n",
    "        x = x.view(-1,64,7,7)\n",
    "        #x = x.reshape((None,64,7,7))\n",
    "        x = F.leaky_relu(self.decoder_conv1(x))\n",
    "        x = F.leaky_relu(self.decoder_conv2(x, output_size=upsample2_size))\n",
    "        x = F.leaky_relu(self.decoder_conv3(x, output_size=upsample1_size))\n",
    "        x = F.leaky_relu(self.decoder_conv4(x))\n",
    "        decoder_output = F.sigmoid(x)\n",
    "        \n",
    "        return decoder_output, mu, log_var"
   ]
  },
  {
   "cell_type": "code",
   "execution_count": 3,
   "metadata": {},
   "outputs": [],
   "source": [
    "device = 'cuda'\n",
    "model = VariationalAutoencoders(n_channel=32, z_dim=2)#.to(device)\n",
    "optimizer = optim.Adam(model.parameters(), lr=1e-3)\n",
    "# Reconstruction + KL divergence losses summed over all elements and batch\n",
    "def loss_function(recon_x, x, mu, logvar):\n",
    "    BCE = F.binary_cross_entropy(recon_x.view(-1, 784), x.view(-1, 784), reduction='sum')\n",
    "    KLD = -0.5 * torch.sum(1 + logvar - mu.pow(2) - logvar.exp())\n",
    "\n",
    "    return (BCE + KLD).to('cuda')"
   ]
  },
  {
   "cell_type": "code",
   "execution_count": 4,
   "metadata": {},
   "outputs": [
    {
     "data": {
      "text/plain": [
       "VariationalAutoencoders(\n",
       "  (encoder_conv1): Conv2d(1, 32, kernel_size=(3, 3), stride=(1, 1), padding=(1, 1))\n",
       "  (encoder_conv2): Conv2d(32, 64, kernel_size=(3, 3), stride=(2, 2), padding=(1, 1))\n",
       "  (encoder_conv3): Conv2d(64, 64, kernel_size=(3, 3), stride=(2, 2), padding=(1, 1))\n",
       "  (encoder_conv4): Conv2d(64, 64, kernel_size=(3, 3), stride=(1, 1), padding=(1, 1))\n",
       "  (mu): Linear(in_features=3136, out_features=2, bias=True)\n",
       "  (log_var): Linear(in_features=3136, out_features=2, bias=True)\n",
       "  (fc1): Linear(in_features=2, out_features=3136, bias=True)\n",
       "  (decoder_conv1): ConvTranspose2d(64, 64, kernel_size=(3, 3), stride=(1, 1), padding=(1, 1))\n",
       "  (decoder_conv2): ConvTranspose2d(64, 64, kernel_size=(3, 3), stride=(2, 2), padding=(1, 1))\n",
       "  (decoder_conv3): ConvTranspose2d(64, 32, kernel_size=(3, 3), stride=(2, 2), padding=(1, 1))\n",
       "  (decoder_conv4): ConvTranspose2d(32, 1, kernel_size=(3, 3), stride=(1, 1), padding=(1, 1))\n",
       ")"
      ]
     },
     "execution_count": 4,
     "metadata": {},
     "output_type": "execute_result"
    }
   ],
   "source": [
    "model"
   ]
  },
  {
   "cell_type": "code",
   "execution_count": 5,
   "metadata": {},
   "outputs": [],
   "source": [
    "bs = 256\n",
    "# MNIST Dataset\n",
    "train_dataset = datasets.MNIST(root='/home/mayur/Desktop/Pytorch/data/', train=True, transform=transforms.ToTensor(), download=True)\n",
    "test_dataset = datasets.MNIST(root='/home/mayur/Desktop/Pytorch/data/', train=False, transform=transforms.ToTensor(), download=True)\n",
    "\n",
    "# Data Loader (Input Pipeline)\n",
    "train_loader = torch.utils.data.DataLoader(dataset=train_dataset, batch_size=bs, shuffle=True)\n",
    "test_loader = torch.utils.data.DataLoader(dataset=test_dataset, batch_size=bs, shuffle=True)"
   ]
  },
  {
   "cell_type": "code",
   "execution_count": 6,
   "metadata": {},
   "outputs": [],
   "source": [
    "def train(epochs):\n",
    "    model.train()\n",
    "    for epoch in range(epochs):\n",
    "        start = time.time()\n",
    "        train_loss = 0\n",
    "        for batch_idx, (data, _) in enumerate(train_loader):\n",
    "            data = data.to(device)\n",
    "            optimizer.zero_grad()\n",
    "            recon_batch, mu, logvar = model(data)\n",
    "            loss = loss_function(recon_batch, data, mu, logvar)\n",
    "            loss.backward()\n",
    "            train_loss += loss.item()\n",
    "            optimizer.step()\n",
    "        end = time.time()\n",
    "        print(f'====> Epoch: {epoch+1} Average loss: {train_loss / len(train_loader.dataset):.4f}, Time: {end-start} Seconds')\n",
    "    return model"
   ]
  },
  {
   "cell_type": "code",
   "execution_count": 7,
   "metadata": {
    "collapsed": true,
    "jupyter": {
     "outputs_hidden": true
    }
   },
   "outputs": [
    {
     "name": "stderr",
     "output_type": "stream",
     "text": [
      "/opt/anaconda3/lib/python3.7/site-packages/torch/nn/functional.py:1625: UserWarning: nn.functional.sigmoid is deprecated. Use torch.sigmoid instead.\n",
      "  warnings.warn(\"nn.functional.sigmoid is deprecated. Use torch.sigmoid instead.\")\n"
     ]
    },
    {
     "name": "stdout",
     "output_type": "stream",
     "text": [
      "====> Epoch: 1 Average loss: 251.9990, Time: 97.27359700202942 Seconds\n",
      "====> Epoch: 2 Average loss: 176.0899, Time: 98.34475874900818 Seconds\n",
      "====> Epoch: 3 Average loss: 169.0839, Time: 99.14751243591309 Seconds\n",
      "====> Epoch: 4 Average loss: 165.2882, Time: 99.41934633255005 Seconds\n",
      "====> Epoch: 5 Average loss: 162.4543, Time: 98.12184882164001 Seconds\n",
      "====> Epoch: 6 Average loss: 159.8843, Time: 98.7273461818695 Seconds\n",
      "====> Epoch: 7 Average loss: 157.7706, Time: 96.23341202735901 Seconds\n",
      "====> Epoch: 8 Average loss: 156.0465, Time: 94.0798168182373 Seconds\n",
      "====> Epoch: 9 Average loss: 154.7233, Time: 96.2291898727417 Seconds\n",
      "====> Epoch: 10 Average loss: 153.6679, Time: 93.32412219047546 Seconds\n",
      "====> Epoch: 11 Average loss: 152.6988, Time: 93.70657658576965 Seconds\n",
      "====> Epoch: 12 Average loss: 151.8254, Time: 92.96965098381042 Seconds\n",
      "====> Epoch: 13 Average loss: 151.1754, Time: 93.11532211303711 Seconds\n",
      "====> Epoch: 14 Average loss: 150.6054, Time: 93.08154153823853 Seconds\n",
      "====> Epoch: 15 Average loss: 149.9183, Time: 92.55333709716797 Seconds\n",
      "====> Epoch: 16 Average loss: 149.4020, Time: 90.39350891113281 Seconds\n",
      "====> Epoch: 17 Average loss: 149.0328, Time: 93.42847895622253 Seconds\n",
      "====> Epoch: 18 Average loss: 148.5311, Time: 91.5620129108429 Seconds\n",
      "====> Epoch: 19 Average loss: 148.0627, Time: 92.96753478050232 Seconds\n",
      "====> Epoch: 20 Average loss: 147.7114, Time: 91.03693270683289 Seconds\n",
      "====> Epoch: 21 Average loss: 147.3522, Time: 90.23834943771362 Seconds\n",
      "====> Epoch: 22 Average loss: 146.9796, Time: 91.59318137168884 Seconds\n",
      "====> Epoch: 23 Average loss: 146.6482, Time: 92.23730731010437 Seconds\n",
      "====> Epoch: 24 Average loss: 146.3795, Time: 93.20814180374146 Seconds\n",
      "====> Epoch: 25 Average loss: 145.9832, Time: 91.94522762298584 Seconds\n",
      "====> Epoch: 26 Average loss: 145.6892, Time: 93.9224636554718 Seconds\n",
      "====> Epoch: 27 Average loss: 145.3766, Time: 92.31971311569214 Seconds\n",
      "====> Epoch: 28 Average loss: 145.3066, Time: 96.90527105331421 Seconds\n",
      "====> Epoch: 29 Average loss: 144.9696, Time: 94.14203643798828 Seconds\n",
      "====> Epoch: 30 Average loss: 144.6200, Time: 97.33216691017151 Seconds\n",
      "====> Epoch: 31 Average loss: 144.4263, Time: 95.82703447341919 Seconds\n",
      "====> Epoch: 32 Average loss: 144.3674, Time: 95.97700262069702 Seconds\n",
      "====> Epoch: 33 Average loss: 144.0985, Time: 95.32951474189758 Seconds\n",
      "====> Epoch: 34 Average loss: 143.7707, Time: 96.41228723526001 Seconds\n",
      "====> Epoch: 35 Average loss: 143.7078, Time: 94.94587731361389 Seconds\n",
      "====> Epoch: 36 Average loss: 143.4656, Time: 94.97145295143127 Seconds\n",
      "====> Epoch: 37 Average loss: 143.3092, Time: 95.12368607521057 Seconds\n",
      "====> Epoch: 38 Average loss: 143.0651, Time: 97.2208137512207 Seconds\n",
      "====> Epoch: 39 Average loss: 142.9070, Time: 96.92593169212341 Seconds\n",
      "====> Epoch: 40 Average loss: 142.8653, Time: 94.6170642375946 Seconds\n",
      "====> Epoch: 41 Average loss: 142.6618, Time: 96.56827306747437 Seconds\n",
      "====> Epoch: 42 Average loss: 142.4188, Time: 96.1703519821167 Seconds\n",
      "====> Epoch: 43 Average loss: 142.2726, Time: 97.07787227630615 Seconds\n",
      "====> Epoch: 44 Average loss: 142.1206, Time: 97.6703200340271 Seconds\n",
      "====> Epoch: 45 Average loss: 142.0205, Time: 96.28063106536865 Seconds\n",
      "====> Epoch: 46 Average loss: 141.8628, Time: 95.2885012626648 Seconds\n",
      "====> Epoch: 47 Average loss: 141.8677, Time: 96.08970999717712 Seconds\n",
      "====> Epoch: 48 Average loss: 141.6091, Time: 97.08428645133972 Seconds\n",
      "====> Epoch: 49 Average loss: 141.6735, Time: 95.9757821559906 Seconds\n",
      "====> Epoch: 50 Average loss: 141.3675, Time: 99.27141976356506 Seconds\n"
     ]
    }
   ],
   "source": [
    "trained_model = train(50)"
   ]
  },
  {
   "cell_type": "markdown",
   "metadata": {},
   "source": [
    "### **Saving the Model**"
   ]
  },
  {
   "cell_type": "code",
   "execution_count": 8,
   "metadata": {},
   "outputs": [],
   "source": [
    "PATH = './vae.pth'\n",
    "torch.save(trained_model.state_dict(), PATH)"
   ]
  },
  {
   "cell_type": "markdown",
   "metadata": {},
   "source": [
    "### **Loading Pretrained Model for Evaluation**"
   ]
  },
  {
   "cell_type": "code",
   "execution_count": 9,
   "metadata": {},
   "outputs": [
    {
     "data": {
      "text/plain": [
       "VariationalAutoencoders(\n",
       "  (encoder_conv1): Conv2d(1, 32, kernel_size=(3, 3), stride=(1, 1), padding=(1, 1))\n",
       "  (encoder_conv2): Conv2d(32, 64, kernel_size=(3, 3), stride=(2, 2), padding=(1, 1))\n",
       "  (encoder_conv3): Conv2d(64, 64, kernel_size=(3, 3), stride=(2, 2), padding=(1, 1))\n",
       "  (encoder_conv4): Conv2d(64, 64, kernel_size=(3, 3), stride=(1, 1), padding=(1, 1))\n",
       "  (mu): Linear(in_features=3136, out_features=2, bias=True)\n",
       "  (log_var): Linear(in_features=3136, out_features=2, bias=True)\n",
       "  (fc1): Linear(in_features=2, out_features=3136, bias=True)\n",
       "  (decoder_conv1): ConvTranspose2d(64, 64, kernel_size=(3, 3), stride=(1, 1), padding=(1, 1))\n",
       "  (decoder_conv2): ConvTranspose2d(64, 64, kernel_size=(3, 3), stride=(2, 2), padding=(1, 1))\n",
       "  (decoder_conv3): ConvTranspose2d(64, 32, kernel_size=(3, 3), stride=(2, 2), padding=(1, 1))\n",
       "  (decoder_conv4): ConvTranspose2d(32, 1, kernel_size=(3, 3), stride=(1, 1), padding=(1, 1))\n",
       ")"
      ]
     },
     "execution_count": 9,
     "metadata": {},
     "output_type": "execute_result"
    }
   ],
   "source": [
    "model = VariationalAutoencoders(n_channel=32, z_dim=2)\n",
    "model.load_state_dict(torch.load(PATH))\n",
    "model.eval()"
   ]
  },
  {
   "cell_type": "markdown",
   "metadata": {},
   "source": [
    "### **Checking Model's Output on Trained Model on Test dataset**"
   ]
  },
  {
   "cell_type": "code",
   "execution_count": 15,
   "metadata": {
    "jupyter": {
     "source_hidden": true
    }
   },
   "outputs": [
    {
     "data": {
      "image/png": "[encoded data removed]",
      "text/plain": [
       "<Figure size 216x216 with 2 Axes>"
      ]
     },
     "metadata": {
      "needs_background": "light"
     },
     "output_type": "display_data"
    },
    {
     "data": {
      "image/png": "[encoded data removed]",
      "text/plain": [
       "<Figure size 216x216 with 2 Axes>"
      ]
     },
     "metadata": {
      "needs_background": "light"
     },
     "output_type": "display_data"
    },
    {
     "data": {
      "image/png": "[encoded data removed]",
      "text/plain": [
       "<Figure size 216x216 with 2 Axes>"
      ]
     },
     "metadata": {
      "needs_background": "light"
     },
     "output_type": "display_data"
    },
    {
     "data": {
      "image/png": "[encoded data removed]",
      "text/plain": [
       "<Figure size 216x216 with 2 Axes>"
      ]
     },
     "metadata": {
      "needs_background": "light"
     },
     "output_type": "display_data"
    },
    {
     "data": {
      "image/png": "[encoded data removed]",
      "text/plain": [
       "<Figure size 216x216 with 2 Axes>"
      ]
     },
     "metadata": {
      "needs_background": "light"
     },
     "output_type": "display_data"
    },
    {
     "data": {
      "image/png": "[encoded data removed]",
      "text/plain": [
       "<Figure size 216x216 with 2 Axes>"
      ]
     },
     "metadata": {
      "needs_background": "light"
     },
     "output_type": "display_data"
    },
    {
     "data": {
      "image/png": "[encoded data removed]",
      "text/plain": [
       "<Figure size 216x216 with 2 Axes>"
      ]
     },
     "metadata": {
      "needs_background": "light"
     },
     "output_type": "display_data"
    },
    {
     "data": {
      "image/png": "[encoded data removed]",
      "text/plain": [
       "<Figure size 216x216 with 2 Axes>"
      ]
     },
     "metadata": {
      "needs_background": "light"
     },
     "output_type": "display_data"
    },
    {
     "data": {
      "image/png": "[encoded data removed]",
      "text/plain": [
       "<Figure size 216x216 with 2 Axes>"
      ]
     },
     "metadata": {
      "needs_background": "light"
     },
     "output_type": "display_data"
    },
    {
     "data": {
      "image/png": "[encoded data removed]",
      "text/plain": [
       "<Figure size 216x216 with 2 Axes>"
      ]
     },
     "metadata": {
      "needs_background": "light"
     },
     "output_type": "display_data"
    }
   ],
   "source": [
    "example_idx = np.random.choice(range(len(test_dataset)), 10)\n",
    "\n",
    "#z_points = vae.encoder.predict(example_images)\n",
    "for image in example_idx:\n",
    "    reconst_images, _, _ = model(test_dataset[image][0].unsqueeze(1))\n",
    "    fig = plt.figure(figsize=(3, 3))\n",
    "    fig.subplots_adjust(hspace=1.0, wspace=1.0)\n",
    "    img = test_dataset[image][0].squeeze()\n",
    "    sub = fig.add_subplot(1, 2, 1)\n",
    "    sub.axis('off')\n",
    "    plt.title(\"Original Images\")\n",
    "    sub.imshow(img, cmap='gray_r')\n",
    "    img = reconst_images.squeeze().detach().numpy()\n",
    "    sub = fig.add_subplot(1, 2, 2)\n",
    "    sub.axis('off')\n",
    "    plt.title(\"Generated Images\")\n",
    "    sub.imshow(img, cmap='gray_r')"
   ]
  },
  {
   "cell_type": "code",
   "execution_count": null,
   "metadata": {},
   "outputs": [],
   "source": []
  }
 ],
 "metadata": {
  "kernelspec": {
   "display_name": "Python 3",
   "language": "python",
   "name": "python3"
  },
  "language_info": {
   "codemirror_mode": {
    "name": "ipython",
    "version": 3
   },
   "file_extension": ".py",
   "mimetype": "text/x-python",
   "name": "python",
   "nbconvert_exporter": "python",
   "pygments_lexer": "ipython3",
   "version": "3.7.6"
  }
 },
 "nbformat": 4,
 "nbformat_minor": 4
}
