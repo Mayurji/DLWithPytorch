{
 "cells": [
  {
   "cell_type": "markdown",
   "metadata": {},
   "source": [
    "### PyTorch\n",
    "\n",
    "PyTorch is a popular open source machine learning library based on Torch library. Pytorch provides three set of libraries, i.e., torchvision, torchaudio, torchtext for Computer Vision, Audio and Text respectively. \n",
    "\n",
    "It provides two high-level features:\n",
    "\n",
    "* Tensor computation (like NumPy) with strong GPU acceleration\n",
    "* Deep neural networks built on a type-based autograd system\n",
    "\n",
    "We'll not dwell on history of deep learning libraries like talking about caffee, tensorflow, maxnet, etc. We'll directly jump on to PyTorch and work on it.\n",
    "\n",
    "In this notebook, We cover basics of pytorch tensors. Things will get more interesting with every next notebook.\n",
    "\n",
    "### Topics Covered\n",
    "\n",
    "* Image is a tensor?\n",
    "* Creating Scalar, Vector, and Tensor.\n",
    "* Mathematical operation on tensors.\n",
    "* Convert vector to matrices.\n",
    "* Accessing elements in a tensors.\n",
    "* Selecting rows/columns of a tensors.\n",
    "* Elementwise and matrix multiplication between tensors.\n",
    "* Combining Elements in a tensor.\n",
    "* Dot Product of a tensor.\n",
    "* Matrix-Vector Multiplication.\n",
    "\n",
    "### Note:\n",
    "\n",
    "Used Torch 1.8.1 "
   ]
  },
  {
   "cell_type": "markdown",
   "metadata": {},
   "source": [
    "### Installation"
   ]
  },
  {
   "cell_type": "code",
   "execution_count": null,
   "metadata": {},
   "outputs": [],
   "source": [
    "#!pip install torch==1.8.1"
   ]
  },
  {
   "cell_type": "markdown",
   "metadata": {},
   "source": [
    "### Importing Libraries"
   ]
  },
  {
   "cell_type": "code",
   "execution_count": null,
   "metadata": {},
   "outputs": [],
   "source": [
    "import os\n",
    "import numpy as np\n",
    "\n",
    "import torch\n",
    "\n",
    "from PIL import Image\n",
    "import matplotlib.pyplot as plt"
   ]
  },
  {
   "cell_type": "markdown",
   "metadata": {},
   "source": [
    "## Image is a tensor?\n",
    "\n",
    "Before we start working with pytorch tensor, we'll see a sample of image and find what it consists of."
   ]
  },
  {
   "cell_type": "code",
   "execution_count": null,
   "metadata": {},
   "outputs": [],
   "source": [
    "Image.open('SampleImages/dog.jpg')"
   ]
  },
  {
   "cell_type": "code",
   "execution_count": null,
   "metadata": {},
   "outputs": [],
   "source": [
    "image = Image.open('SampleImages/dog.jpg')\n",
    "print(f'Image Size with Channels {np.asarray(image).shape}')"
   ]
  },
  {
   "cell_type": "markdown",
   "metadata": {},
   "source": [
    "There are some series of steps done in the above cell.\n",
    "\n",
    "* First, we are loading the dog's image using PIL Library.\n",
    "* Second, we are converting the PIL object into array using Numpy.\n",
    "* Then, we are finding the shape of the image. Shape refers to width, height, and channels. \n",
    "\n",
    "From an image shape, we can notice:\n",
    "  - 1200px Width\n",
    "  - 602px Height\n",
    "  - 3 Channel (RGB color channel)\n",
    "\n",
    "px - pixels"
   ]
  },
  {
   "cell_type": "markdown",
   "metadata": {},
   "source": [
    "**Channels of an Image**\n",
    "\n",
    "Below we can see all the three channels of the image separately, and each image is of dimension (1, width, height)."
   ]
  },
  {
   "cell_type": "code",
   "execution_count": null,
   "metadata": {},
   "outputs": [],
   "source": [
    "\"\"\"Plotting each channel of the image separately\"\"\"\n",
    "\n",
    "figure, plots = plt.subplots(ncols=3, nrows=1, figsize=(15, 15))\n",
    "for i, subplot in zip(range(3), plots):\n",
    "    subplot.imshow(np.asarray(image)[:, :, i])\n",
    "    subplot.set_axis_off()\n",
    "plt.show()"
   ]
  },
  {
   "cell_type": "code",
   "execution_count": null,
   "metadata": {},
   "outputs": [],
   "source": [
    "\"\"\"\n",
    "Using numpy's rollaxis, we are shifting the channel dimension to the first dimension.\n",
    "Remember this variable as we'll use it later for manipulating images.\n",
    "\"\"\"\n",
    "np_image = np.rollaxis(np.asarray(image), 2, 0)\n",
    "#np_image"
   ]
  },
  {
   "cell_type": "markdown",
   "metadata": {},
   "source": [
    "On uncommenting np_image above, we'll see a tensor of numbers. Each image is represented by a set of numbers aligned in matrix format with value ranging between 0 to 255. Where 0 refers to black and 255 refers to white. \n",
    "\n",
    "**From here onwards, we'll create tensor similar to image tensor using PyTorch and work with it.**\n",
    "\n",
    "### Creating a Scalar, Vector, and Tensor.\n",
    "\n",
    "Scalar: It is a zero rank tensor, simply referred as a numeric value. It is also known as tensor with no axis.\n",
    "\n",
    "Vector: It is a first rank tensor, simply referred as a list of numeric values. It is also known as tensor with one axis.\n",
    "\n",
    "Tensor/Matrix: It is a tensor with rank greater than one. It is also known as tensor with more than one axis."
   ]
  },
  {
   "cell_type": "code",
   "execution_count": null,
   "metadata": {
    "jupyter": {
     "outputs_hidden": true
    }
   },
   "outputs": [],
   "source": [
    "\"\"\"Scalar\"\"\"\n",
    "scalar = torch.tensor(3.14)\n",
    "print(f'Scalar Declaration: {scalar.shape}\\n')\n",
    "\n",
    "\"\"\"Vector\"\"\"\n",
    "vector = torch.tensor([0.2126, 0.7152, 0.0722])\n",
    "print(f'Vector Declaration: {vector.shape}\\n')\n",
    "\n",
    "\"\"\"Tensor\"\"\"\n",
    "tensor = torch.randn(3, 5, 5) #In analogy with Image, we can think of [channels, rows, columns]\n",
    "print(f'Tensor Declaration: {tensor.shape}\\n')\n",
    "\n",
    "\"\"\"\n",
    "If we compare a tensor with an image tensor, an image consists of CxWxH, but to keep multiple \n",
    "images inside a tensor, we must add a separate dimension called as Batch dimension.\n",
    "Creating a tensor with two images with dimension as follows (3 channel, 5 width, 5 height).\n",
    "\"\"\"\n",
    "\n",
    "batch = torch.randn(2, 3, 5, 5) #[batch, channels, rows, columns]\n",
    "print(f'Adding batch dimension: {batch.shape}')"
   ]
  },
  {
   "cell_type": "markdown",
   "metadata": {},
   "source": [
    "## Playing With Tensors"
   ]
  },
  {
   "cell_type": "markdown",
   "metadata": {},
   "source": [
    "**Scalar Multiplication**"
   ]
  },
  {
   "cell_type": "code",
   "execution_count": null,
   "metadata": {
    "jupyter": {
     "outputs_hidden": true
    }
   },
   "outputs": [],
   "source": [
    "x = torch.tensor([0.3])\n",
    "y = torch.tensor([1.5])\n",
    "\n",
    "print(f'Multiplying two scalar values x and y: {(x * y).item()}')"
   ]
  },
  {
   "cell_type": "markdown",
   "metadata": {},
   "source": [
    "**Creating a Vector using arange**"
   ]
  },
  {
   "cell_type": "code",
   "execution_count": null,
   "metadata": {
    "jupyter": {
     "outputs_hidden": true
    }
   },
   "outputs": [],
   "source": [
    "vector = torch.arange(20) \n",
    "print(f'Vector of size 20: {vector}')"
   ]
  },
  {
   "cell_type": "markdown",
   "metadata": {},
   "source": [
    "**Converting a Vector into matrix using reshape.**"
   ]
  },
  {
   "cell_type": "code",
   "execution_count": null,
   "metadata": {
    "jupyter": {
     "outputs_hidden": true
    }
   },
   "outputs": [],
   "source": [
    "matrix = vector.reshape(4, 5)\n",
    "print(f'Matrix of shape 4x5: \\n{matrix}')"
   ]
  },
  {
   "cell_type": "markdown",
   "metadata": {},
   "source": [
    "**Transpose of a matrix.**"
   ]
  },
  {
   "cell_type": "code",
   "execution_count": null,
   "metadata": {
    "jupyter": {
     "outputs_hidden": true
    }
   },
   "outputs": [],
   "source": [
    "print(f'Transpose of a matrix: \\n{matrix.T}') # Shape 4x5 becomes 5x4."
   ]
  },
  {
   "cell_type": "markdown",
   "metadata": {},
   "source": [
    "**Accessing elements of a tensor.**"
   ]
  },
  {
   "cell_type": "code",
   "execution_count": null,
   "metadata": {
    "jupyter": {
     "outputs_hidden": true
    }
   },
   "outputs": [],
   "source": [
    "print(f'Accessing second row and third column: {matrix[1, 2]}') #index starts from zero.\n",
    "print(f'Accessing first row and first column: {matrix[0, 0]}') #index starts from zero.\n",
    "print(f'Accessing last row and last column: {matrix[3, 4]}') #index starts from zero."
   ]
  },
  {
   "cell_type": "markdown",
   "metadata": {},
   "source": [
    "**Selecting row/column**"
   ]
  },
  {
   "cell_type": "code",
   "execution_count": null,
   "metadata": {
    "jupyter": {
     "outputs_hidden": true
    }
   },
   "outputs": [],
   "source": [
    "print(f'Selecting second Row completely: \\n{matrix[1,:]}\\n')\n",
    "print(f'Selecting second Column completely: \\n{matrix[:,1]}')"
   ]
  },
  {
   "cell_type": "markdown",
   "metadata": {},
   "source": [
    "**Creating complex matrix with arbitrary no. of axes.**"
   ]
  },
  {
   "cell_type": "code",
   "execution_count": null,
   "metadata": {},
   "outputs": [],
   "source": [
    "complexMatrix = torch.arange(150).reshape(2, 3, 5, 5)\n",
    "#complexMatrix"
   ]
  },
  {
   "cell_type": "markdown",
   "metadata": {},
   "source": [
    "**Creating a Copy of a matrix using Clone method.**"
   ]
  },
  {
   "cell_type": "code",
   "execution_count": null,
   "metadata": {
    "jupyter": {
     "outputs_hidden": true
    }
   },
   "outputs": [],
   "source": [
    "matrixTwo = matrix.clone()\n",
    "print(f'Cloned Matrix: \\n{matrixTwo}')"
   ]
  },
  {
   "cell_type": "markdown",
   "metadata": {},
   "source": [
    "**Elementwise Multiplication of matrices. Elementwise multiplication of \n",
    "two matrices is called as their Hadamard product (math notation ⊙).**"
   ]
  },
  {
   "cell_type": "code",
   "execution_count": null,
   "metadata": {
    "jupyter": {
     "outputs_hidden": true
    }
   },
   "outputs": [],
   "source": [
    "print(f'Elementwise Multiplication of two matrices: \\n{matrix * matrixTwo}')"
   ]
  },
  {
   "cell_type": "markdown",
   "metadata": {},
   "source": [
    "**Combining Elements along axes.**"
   ]
  },
  {
   "cell_type": "code",
   "execution_count": null,
   "metadata": {
    "jupyter": {
     "outputs_hidden": true
    }
   },
   "outputs": [],
   "source": [
    "print(f'Given Matrix and its shape: \\n{matrix}, {matrix.shape} \\n')\n",
    "print(f'Sum of all elements of the given matrix: {matrix.sum()} \\n')\n",
    "print(f'Adding along row axis and its shape: \\n{matrix.sum(axis=1)}, {matrix.sum(axis=1).shape}\\n')\n",
    "print(f'Adding along column axis and its shape: \\n{matrix.sum(axis=0)}, {matrix.sum(axis=0).shape}')"
   ]
  },
  {
   "cell_type": "markdown",
   "metadata": {},
   "source": [
    "**In the above summation along the axis, we lose the dimension about the matrix. \n",
    "To retain the dimension information, we can use keep dims parameter.**"
   ]
  },
  {
   "cell_type": "code",
   "execution_count": null,
   "metadata": {
    "jupyter": {
     "outputs_hidden": true
    }
   },
   "outputs": [],
   "source": [
    "print(f'Adding along row axis and its shape: \\n{matrix.sum(axis=1, keepdims=True)}, {matrix.sum(axis=1, keepdims=True).shape}\\n')\n",
    "print(f'Adding along column axis and its shape: \\n{matrix.sum(axis=0, keepdims=True)}, {matrix.sum(axis=0, keepdims=True).shape}')"
   ]
  },
  {
   "cell_type": "markdown",
   "metadata": {},
   "source": [
    "**Performing matrix multiplication using matmul() function.\n",
    "Reason for .T is to match the dimension, (4x5)x(5x4).**"
   ]
  },
  {
   "cell_type": "code",
   "execution_count": null,
   "metadata": {},
   "outputs": [],
   "source": [
    "print(f'Matrix Multiplication: \\n{torch.matmul(matrix, matrixTwo.T)}')"
   ]
  },
  {
   "cell_type": "markdown",
   "metadata": {},
   "source": [
    "**Dot Product: is a sum over the products of the elements at the same position.**"
   ]
  },
  {
   "cell_type": "code",
   "execution_count": null,
   "metadata": {},
   "outputs": [],
   "source": [
    "x = torch.arange(4, dtype = torch.float32) # declaring tensor as float type values.\n",
    "y = torch.ones(4,dtype=torch.float32) #Using ones function, we create a vector of ones.\n",
    "\n",
    "print(f' x.y = {torch.dot(x, y)}')"
   ]
  },
  {
   "cell_type": "markdown",
   "metadata": {},
   "source": [
    "**Matrix-Vector Multiplication**"
   ]
  },
  {
   "cell_type": "code",
   "execution_count": null,
   "metadata": {},
   "outputs": [],
   "source": [
    "A = torch.arange(20).reshape(4,5)\n",
    "x = torch.arange(5)\n",
    "\n",
    "print(f'Matrix-Vector Multiplication: \\n{torch.mv(A,x)}')"
   ]
  },
  {
   "cell_type": "markdown",
   "metadata": {},
   "source": [
    "### Thanks For Reading. For Feedback, reach out on Github. Please don't spam."
   ]
  }
 ],
 "metadata": {
  "interpreter": {
   "hash": "dca0ade3e726a953b501b15e8e990130d2b7799f14cfd9f4271676035ebe5511"
  },
  "kernelspec": {
   "display_name": "Python 3.7.6 64-bit ('base': conda)",
   "name": "python3"
  },
  "language_info": {
   "name": "python",
   "version": ""
  }
 },
 "nbformat": 4,
 "nbformat_minor": 4
}