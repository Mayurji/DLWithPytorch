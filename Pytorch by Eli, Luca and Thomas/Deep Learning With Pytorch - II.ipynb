{
 "cells": [
  {
   "cell_type": "markdown",
   "metadata": {},
   "source": [
    "### Classification on CIFAR Dataset"
   ]
  },
  {
   "cell_type": "markdown",
   "metadata": {},
   "source": [
    "#### Loading the Libraries"
   ]
  },
  {
   "cell_type": "code",
   "execution_count": 57,
   "metadata": {},
   "outputs": [],
   "source": [
    "import torch\n",
    "import torchvision\n",
    "from torchvision import transforms\n",
    "import torch.nn as nn\n",
    "import torch.optim as optim\n",
    "import torch.nn.functional as F\n",
    "import matplotlib.pyplot as plt\n",
    "from PIL import Image\n",
    "from torchvision.utils import save_image\n",
    "%matplotlib inline"
   ]
  },
  {
   "cell_type": "markdown",
   "metadata": {},
   "source": [
    "#### Downloading the dataset if not present using Torchvision Dataset Library"
   ]
  },
  {
   "cell_type": "markdown",
   "metadata": {},
   "source": [
    "* Using Torchvision's Transform function, we transform images to tensor and normalize it with mean and std over each channel of the Image."
   ]
  },
  {
   "cell_type": "code",
   "execution_count": 7,
   "metadata": {},
   "outputs": [
    {
     "name": "stdout",
     "output_type": "stream",
     "text": [
      "Files already downloaded and verified\n"
     ]
    }
   ],
   "source": [
    "transform = transforms.Compose([transforms.ToTensor(),transforms.Normalize((0.5, 0.5, 0.5),(0.5, 0.5, 0.5))])\n",
    "trainset = torchvision.datasets.CIFAR10(root='/home/mayur/Desktop/Pytorch/data', train=True,\n",
    "                                        download=True, transform=transform)\n",
    "trainloader = torch.utils.data.DataLoader(trainset, batch_size=4,\n",
    "                                          shuffle=True, num_workers=2)"
   ]
  },
  {
   "cell_type": "code",
   "execution_count": 8,
   "metadata": {},
   "outputs": [
    {
     "name": "stdout",
     "output_type": "stream",
     "text": [
      "Files already downloaded and verified\n"
     ]
    }
   ],
   "source": [
    "testset = torchvision.datasets.CIFAR10(root='/home/mayur/Desktop/Pytorch/data', train=False,\n",
    "                                       download=True, transform=transform)\n",
    "testloader = torch.utils.data.DataLoader(testset, batch_size=4,\n",
    "                                         shuffle=False, num_workers=2)"
   ]
  },
  {
   "cell_type": "markdown",
   "metadata": {},
   "source": [
    "Checking hierarchy of the class of CIFAR dataset"
   ]
  },
  {
   "cell_type": "code",
   "execution_count": 9,
   "metadata": {},
   "outputs": [
    {
     "data": {
      "text/plain": [
       "(torchvision.datasets.cifar.CIFAR10,\n",
       " torchvision.datasets.vision.VisionDataset,\n",
       " torch.utils.data.dataset.Dataset,\n",
       " object)"
      ]
     },
     "execution_count": 9,
     "metadata": {},
     "output_type": "execute_result"
    }
   ],
   "source": [
    "type(trainset).__mro__"
   ]
  },
  {
   "cell_type": "markdown",
   "metadata": {},
   "source": [
    "#### Loading one Image and checking its label !"
   ]
  },
  {
   "cell_type": "code",
   "execution_count": 10,
   "metadata": {},
   "outputs": [],
   "source": [
    "img, label = trainset[0]"
   ]
  },
  {
   "cell_type": "code",
   "execution_count": 58,
   "metadata": {},
   "outputs": [],
   "source": [
    "save_image(img, '/home/mayur/Desktop/Model_Deployment/sample_image.jpg')"
   ]
  },
  {
   "cell_type": "code",
   "execution_count": 61,
   "metadata": {},
   "outputs": [],
   "source": [
    "PIL_image = Image.open('/home/mayur/Desktop/Model_Deployment/sample_image.jpg')\n",
    "torch_img = transforms.ToTensor()(PIL_image)"
   ]
  },
  {
   "cell_type": "code",
   "execution_count": 62,
   "metadata": {},
   "outputs": [
    {
     "data": {
      "text/plain": [
       "torch.Size([3, 32, 32])"
      ]
     },
     "execution_count": 62,
     "metadata": {},
     "output_type": "execute_result"
    }
   ],
   "source": [
    "torch_img.shape"
   ]
  },
  {
   "cell_type": "markdown",
   "metadata": {},
   "source": [
    "### How to Normalize Image\n",
    "\n",
    "Above in transforms section, I have used 0.5 as mean and std across 3 channels. The way to find the mean and std of an image with three channel.\n",
    "\n",
    "Why Normalize images for whole dataset ?\n",
    "\n",
    "https://stats.stackexchange.com/questions/211436/why-normalize-images-by-subtracting-datasets-image-mean-instead-of-the-current"
   ]
  },
  {
   "cell_type": "code",
   "execution_count": 11,
   "metadata": {},
   "outputs": [],
   "source": [
    "imgs = torch.stack([img_t for img_t, _ in trainset], dim=3)"
   ]
  },
  {
   "cell_type": "code",
   "execution_count": 12,
   "metadata": {},
   "outputs": [
    {
     "data": {
      "text/plain": [
       "torch.Size([3, 32, 32, 50000])"
      ]
     },
     "execution_count": 12,
     "metadata": {},
     "output_type": "execute_result"
    }
   ],
   "source": [
    "imgs.shape"
   ]
  },
  {
   "cell_type": "code",
   "execution_count": 13,
   "metadata": {},
   "outputs": [
    {
     "data": {
      "text/plain": [
       "tensor([-0.0172, -0.0357, -0.1070])"
      ]
     },
     "execution_count": 13,
     "metadata": {},
     "output_type": "execute_result"
    }
   ],
   "source": [
    "imgs.view(3, -1).mean(dim=1) # Recall that view(3, -1) keeps the three channels and merges all the remaining dimensions into one, figuring out the appropriate size"
   ]
  },
  {
   "cell_type": "code",
   "execution_count": 14,
   "metadata": {},
   "outputs": [
    {
     "data": {
      "text/plain": [
       "tensor([0.4941, 0.4870, 0.5232])"
      ]
     },
     "execution_count": 14,
     "metadata": {},
     "output_type": "execute_result"
    }
   ],
   "source": [
    "imgs.view(3, -1).std(dim=1)"
   ]
  },
  {
   "cell_type": "markdown",
   "metadata": {},
   "source": [
    "**We can replace mean and std with newly found values in transforms.Normalize()**"
   ]
  },
  {
   "cell_type": "markdown",
   "metadata": {},
   "source": [
    "### Creating Classification Model\n",
    "\n",
    "**Create a Subset of full dataset by keeping only keeping two sets of images like birds and airplane.**"
   ]
  },
  {
   "cell_type": "code",
   "execution_count": 15,
   "metadata": {},
   "outputs": [],
   "source": [
    "#Label Mapping - classification of two class \n",
    "\n",
    "label_map = {0: 0, 2: 1}\n",
    "class_names = ['airplane', 'bird']\n",
    "cifar_2 = [(img, label_map[label1]) for img, label1 in trainset if label1 in [0,2]]"
   ]
  },
  {
   "cell_type": "code",
   "execution_count": 16,
   "metadata": {},
   "outputs": [],
   "source": [
    "cifar2_val = [(img, label_map[label])\n",
    "for img, label in testset\n",
    "if label in [0, 2]]"
   ]
  },
  {
   "cell_type": "markdown",
   "metadata": {},
   "source": [
    "**How to flatten a matrix**"
   ]
  },
  {
   "cell_type": "code",
   "execution_count": 17,
   "metadata": {},
   "outputs": [],
   "source": [
    "two_dimension = torch.randn(4,5)"
   ]
  },
  {
   "cell_type": "code",
   "execution_count": 18,
   "metadata": {},
   "outputs": [
    {
     "data": {
      "text/plain": [
       "tensor([ 0.2354, -0.1260, -1.4139,  0.0181, -0.7167, -1.8803, -0.3555, -0.8785,\n",
       "        -0.5474,  0.3860, -2.0155,  0.5652,  0.9730,  0.1102,  1.4525, -0.5118,\n",
       "         1.2378, -0.9805,  0.3566, -0.8049])"
      ]
     },
     "execution_count": 18,
     "metadata": {},
     "output_type": "execute_result"
    }
   ],
   "source": [
    "two_dimension.view(-1)"
   ]
  },
  {
   "cell_type": "code",
   "execution_count": 19,
   "metadata": {},
   "outputs": [
    {
     "data": {
      "text/plain": [
       "tensor([[ 0.2354, -0.1260, -1.4139,  0.0181, -0.7167],\n",
       "        [-1.8803, -0.3555, -0.8785, -0.5474,  0.3860],\n",
       "        [-2.0155,  0.5652,  0.9730,  0.1102,  1.4525],\n",
       "        [-0.5118,  1.2378, -0.9805,  0.3566, -0.8049]])"
      ]
     },
     "execution_count": 19,
     "metadata": {},
     "output_type": "execute_result"
    }
   ],
   "source": [
    "two_dimension"
   ]
  },
  {
   "cell_type": "markdown",
   "metadata": {},
   "source": [
    "**32 × 32 × 3: that is, 3,072 input features per sample**"
   ]
  },
  {
   "cell_type": "code",
   "execution_count": 20,
   "metadata": {},
   "outputs": [],
   "source": [
    "i_feat = cifar_2[0][0].view(-1).shape[0]"
   ]
  },
  {
   "cell_type": "code",
   "execution_count": 21,
   "metadata": {},
   "outputs": [],
   "source": [
    "n_out = 2"
   ]
  },
  {
   "cell_type": "code",
   "execution_count": 22,
   "metadata": {},
   "outputs": [],
   "source": [
    "clf_model = nn.Sequential(\n",
    "    nn.Linear(i_feat, 512),\n",
    "    nn.Tanh(),\n",
    "    nn.Linear(512, n_out)\n",
    ")"
   ]
  },
  {
   "cell_type": "markdown",
   "metadata": {},
   "source": [
    "**Representing the output using Probabilities, since the output is categorical. We can use softmax to bring down each class predicated value in range of 0 to 1.**"
   ]
  },
  {
   "cell_type": "code",
   "execution_count": 23,
   "metadata": {},
   "outputs": [],
   "source": [
    "def softmax(x):\n",
    "    return torch.exp(x)/ torch.exp(x).sum()"
   ]
  },
  {
   "cell_type": "code",
   "execution_count": 24,
   "metadata": {},
   "outputs": [
    {
     "data": {
      "text/plain": [
       "tensor([0.0900, 0.2447, 0.6652])"
      ]
     },
     "execution_count": 24,
     "metadata": {},
     "output_type": "execute_result"
    }
   ],
   "source": [
    "x = torch.tensor([1.0, 2.0, 3.0])\n",
    "softmax(x)"
   ]
  },
  {
   "cell_type": "code",
   "execution_count": 25,
   "metadata": {},
   "outputs": [],
   "source": [
    "softmax = nn.Softmax(dim=1)\n",
    "x = torch.tensor([[1.0, 2.0, 3.0],\n",
    "[1.0, 2.0, 3.0]])"
   ]
  },
  {
   "cell_type": "code",
   "execution_count": 26,
   "metadata": {},
   "outputs": [
    {
     "data": {
      "text/plain": [
       "tensor([[0.0900, 0.2447, 0.6652],\n",
       "        [0.0900, 0.2447, 0.6652]])"
      ]
     },
     "execution_count": 26,
     "metadata": {},
     "output_type": "execute_result"
    }
   ],
   "source": [
    "softmax(x)"
   ]
  },
  {
   "cell_type": "code",
   "execution_count": 27,
   "metadata": {},
   "outputs": [],
   "source": [
    "clf_model_smax = nn.Sequential(\n",
    "    clf_model,\n",
    "    nn.Softmax(dim=1)\n",
    ")"
   ]
  },
  {
   "cell_type": "code",
   "execution_count": 28,
   "metadata": {},
   "outputs": [
    {
     "data": {
      "text/plain": [
       "Sequential(\n",
       "  (0): Linear(in_features=3072, out_features=512, bias=True)\n",
       "  (1): Tanh()\n",
       "  (2): Linear(in_features=512, out_features=2, bias=True)\n",
       ")"
      ]
     },
     "execution_count": 28,
     "metadata": {},
     "output_type": "execute_result"
    }
   ],
   "source": [
    "clf_model"
   ]
  },
  {
   "cell_type": "code",
   "execution_count": 29,
   "metadata": {},
   "outputs": [],
   "source": [
    "img, _ = cifar_2[0]"
   ]
  },
  {
   "cell_type": "code",
   "execution_count": 30,
   "metadata": {},
   "outputs": [
    {
     "data": {
      "text/plain": [
       "tensor([[-0.1327, -0.1389]], grad_fn=<AddmmBackward>)"
      ]
     },
     "execution_count": 30,
     "metadata": {},
     "output_type": "execute_result"
    }
   ],
   "source": [
    "img_batch = img.view(-1).unsqueeze(0)\n",
    "out = clf_model(img_batch)\n",
    "out"
   ]
  },
  {
   "cell_type": "code",
   "execution_count": 31,
   "metadata": {},
   "outputs": [
    {
     "data": {
      "text/plain": [
       "tensor([0])"
      ]
     },
     "execution_count": 31,
     "metadata": {},
     "output_type": "execute_result"
    }
   ],
   "source": [
    "_, index = torch.max(out, dim=1)\n",
    "index"
   ]
  },
  {
   "cell_type": "code",
   "execution_count": 32,
   "metadata": {},
   "outputs": [],
   "source": [
    "clf_model_logSmax = nn.Sequential(\n",
    "    clf_model,\n",
    "    nn.LogSoftmax(dim=1)\n",
    ")"
   ]
  },
  {
   "cell_type": "code",
   "execution_count": 33,
   "metadata": {},
   "outputs": [],
   "source": [
    "loss = nn.NLLLoss()"
   ]
  },
  {
   "cell_type": "code",
   "execution_count": 34,
   "metadata": {},
   "outputs": [
    {
     "data": {
      "text/plain": [
       "tensor(0.6962, grad_fn=<NllLossBackward>)"
      ]
     },
     "execution_count": 34,
     "metadata": {},
     "output_type": "execute_result"
    }
   ],
   "source": [
    "img, label = cifar_2[0]\n",
    "out = clf_model_logSmax(img.view(-1).unsqueeze(0))\n",
    "loss(out, torch.tensor([label]))"
   ]
  },
  {
   "cell_type": "markdown",
   "metadata": {},
   "source": [
    "**Why MSELoss is not good fit for Classification task? The loss tends to flatten at the extreme of the probability score or score of an predicted class. It means, the loss saturates(remain same) even though the predicted probability becomes worse or betters.** \n",
    "    \n",
    "        If loss = 100, at pp = 0.2, then loss would remain around ~100, even if pp=0.1. It doesn't penalizes the well for learning better parameters"
   ]
  },
  {
   "cell_type": "markdown",
   "metadata": {},
   "source": [
    "### FULL MODEL Without DATALOADER which means no Shuffling"
   ]
  },
  {
   "cell_type": "code",
   "execution_count": 30,
   "metadata": {},
   "outputs": [],
   "source": [
    "%%time\n",
    "import torch\n",
    "import torch.nn as nn\n",
    "model = nn.Sequential(nn.Linear(3072, 512),\n",
    "        nn.Tanh(),\n",
    "        nn.Linear(512, 2),\n",
    "        nn.LogSoftmax(dim=1))\n",
    "\n",
    "learning_rate = 1e-2\n",
    "optimizer = optim.SGD(model.parameters(), lr=learning_rate)\n",
    "\n",
    "loss_fn = nn.NLLLoss()\n",
    "n_epochs = 10\n",
    "for epoch in range(n_epochs):\n",
    "    for img, label in cifar_2:\n",
    "        out = model(img.view(-1).unsqueeze(0))\n",
    "        loss = loss_fn(out, torch.tensor([label]))\n",
    "        optimizer.zero_grad()\n",
    "        loss.backward()\n",
    "        optimizer.step()\n",
    "    \n",
    "    print(\"Epoch: %d, Loss: %f\" % (epoch, float(loss)))\n",
    "# Epoch: 9, Loss: 5.858117  \n",
    "# CPU times: user 54min 35s, sys: 3.08 s, total: 54min 38s\n",
    "# Wall time: 3min 39s"
   ]
  },
  {
   "cell_type": "markdown",
   "metadata": {},
   "source": [
    "### FULL MODEL WITH DATALOADER "
   ]
  },
  {
   "cell_type": "code",
   "execution_count": 32,
   "metadata": {},
   "outputs": [
    {
     "name": "stdout",
     "output_type": "stream",
     "text": [
      "Epoch: 0, Loss: 0.644894\n",
      "Epoch: 1, Loss: 0.588386\n",
      "Epoch: 2, Loss: 0.482380\n",
      "Epoch: 3, Loss: 0.396015\n",
      "Epoch: 4, Loss: 0.526204\n",
      "Epoch: 5, Loss: 0.333051\n",
      "Epoch: 6, Loss: 0.261083\n",
      "Epoch: 7, Loss: 0.318108\n",
      "Epoch: 8, Loss: 0.453247\n",
      "Epoch: 9, Loss: 0.314923\n",
      "Epoch: 10, Loss: 0.206487\n",
      "Epoch: 11, Loss: 0.601495\n",
      "Epoch: 12, Loss: 0.345804\n",
      "Epoch: 13, Loss: 0.299421\n",
      "Epoch: 14, Loss: 0.586524\n",
      "Epoch: 15, Loss: 0.412204\n",
      "Epoch: 16, Loss: 0.255649\n",
      "Epoch: 17, Loss: 0.595014\n",
      "Epoch: 18, Loss: 0.282063\n",
      "Epoch: 19, Loss: 0.506065\n",
      "Epoch: 20, Loss: 0.303293\n",
      "Epoch: 21, Loss: 0.264876\n",
      "Epoch: 22, Loss: 0.527000\n",
      "Epoch: 23, Loss: 0.365232\n",
      "Epoch: 24, Loss: 0.258177\n",
      "Epoch: 25, Loss: 0.492007\n",
      "Epoch: 26, Loss: 0.333968\n",
      "Epoch: 27, Loss: 0.205591\n",
      "Epoch: 28, Loss: 0.229390\n",
      "Epoch: 29, Loss: 0.423348\n",
      "Epoch: 30, Loss: 0.210544\n",
      "Epoch: 31, Loss: 0.280837\n",
      "Epoch: 32, Loss: 0.286746\n",
      "Epoch: 33, Loss: 0.323365\n",
      "Epoch: 34, Loss: 0.472793\n",
      "Epoch: 35, Loss: 0.200212\n",
      "Epoch: 36, Loss: 0.161071\n",
      "Epoch: 37, Loss: 0.266975\n",
      "Epoch: 38, Loss: 0.277691\n",
      "Epoch: 39, Loss: 0.285654\n",
      "Epoch: 40, Loss: 0.178291\n",
      "Epoch: 41, Loss: 0.222371\n",
      "Epoch: 42, Loss: 0.252928\n",
      "Epoch: 43, Loss: 0.450882\n",
      "Epoch: 44, Loss: 0.276784\n",
      "Epoch: 45, Loss: 0.400828\n",
      "Epoch: 46, Loss: 0.256691\n",
      "Epoch: 47, Loss: 0.211665\n",
      "Epoch: 48, Loss: 0.263066\n",
      "Epoch: 49, Loss: 0.379202\n",
      "Epoch: 50, Loss: 0.295797\n",
      "Epoch: 51, Loss: 0.531545\n",
      "Epoch: 52, Loss: 0.243412\n",
      "Epoch: 53, Loss: 0.116873\n",
      "Epoch: 54, Loss: 0.219244\n",
      "Epoch: 55, Loss: 0.265722\n",
      "Epoch: 56, Loss: 0.351581\n",
      "Epoch: 57, Loss: 0.174706\n",
      "Epoch: 58, Loss: 0.385579\n",
      "Epoch: 59, Loss: 0.393021\n",
      "Epoch: 60, Loss: 0.372322\n",
      "Epoch: 61, Loss: 0.155779\n",
      "Epoch: 62, Loss: 0.295122\n",
      "Epoch: 63, Loss: 0.273787\n",
      "Epoch: 64, Loss: 0.208351\n",
      "Epoch: 65, Loss: 0.102334\n",
      "Epoch: 66, Loss: 0.264598\n",
      "Epoch: 67, Loss: 0.244435\n",
      "Epoch: 68, Loss: 0.321537\n",
      "Epoch: 69, Loss: 0.203151\n",
      "Epoch: 70, Loss: 0.094846\n",
      "Epoch: 71, Loss: 0.179116\n",
      "Epoch: 72, Loss: 0.115136\n",
      "Epoch: 73, Loss: 0.148519\n",
      "Epoch: 74, Loss: 0.209930\n",
      "Epoch: 75, Loss: 0.063937\n",
      "Epoch: 76, Loss: 0.376635\n",
      "Epoch: 77, Loss: 0.065938\n",
      "Epoch: 78, Loss: 0.166367\n",
      "Epoch: 79, Loss: 0.126782\n",
      "Epoch: 80, Loss: 0.045750\n",
      "Epoch: 81, Loss: 0.144518\n",
      "Epoch: 82, Loss: 0.088463\n",
      "Epoch: 83, Loss: 0.092183\n",
      "Epoch: 84, Loss: 0.108148\n",
      "Epoch: 85, Loss: 0.071879\n",
      "Epoch: 86, Loss: 0.146536\n",
      "Epoch: 87, Loss: 0.105138\n",
      "Epoch: 88, Loss: 0.087856\n",
      "Epoch: 89, Loss: 0.111455\n",
      "Epoch: 90, Loss: 0.060303\n",
      "Epoch: 91, Loss: 0.198614\n",
      "Epoch: 92, Loss: 0.144532\n",
      "Epoch: 93, Loss: 0.074356\n",
      "Epoch: 94, Loss: 0.078271\n",
      "Epoch: 95, Loss: 0.111178\n",
      "Epoch: 96, Loss: 0.049363\n",
      "Epoch: 97, Loss: 0.188671\n",
      "Epoch: 98, Loss: 0.106275\n",
      "Epoch: 99, Loss: 0.081787\n",
      "CPU times: user 21min 24s, sys: 983 ms, total: 21min 25s\n",
      "Wall time: 1min 26s\n"
     ]
    }
   ],
   "source": [
    "%%time\n",
    "train_loader = torch.utils.data.DataLoader(cifar_2, batch_size=64,shuffle=True)\n",
    "model = nn.Sequential(\n",
    "    nn.Linear(3072, 512),\n",
    "    nn.Tanh(),\n",
    "    nn.Linear(512, 2),\n",
    "    nn.LogSoftmax(dim=1)\n",
    ")\n",
    "\n",
    "learning_rate = 1e-2\n",
    "optimizer = optim.SGD(model.parameters(), lr=learning_rate)\n",
    "loss_fn = nn.NLLLoss()\n",
    "n_epochs = 100\n",
    "for epoch in range(n_epochs):\n",
    "    for imgs, labels in train_loader:\n",
    "        batch_size = imgs.shape[0]\n",
    "        outputs = model(imgs.view(batch_size, -1))\n",
    "        loss = loss_fn(outputs, labels)\n",
    "        optimizer.zero_grad()\n",
    "        loss.backward()\n",
    "        optimizer.step()\n",
    "\n",
    "    print(\"Epoch: %d, Loss: %f\" % (epoch, float(loss)))\n",
    "\n",
    "# Epoch: 99, Loss: 0.032753   \n",
    "# CPU times: user 19min 32s, sys: 1.01 s, total: 19min 33s\n",
    "# Wall time: 1min 18s"
   ]
  },
  {
   "cell_type": "code",
   "execution_count": 33,
   "metadata": {},
   "outputs": [
    {
     "name": "stdout",
     "output_type": "stream",
     "text": [
      "Accuracy: %f 0.8125\n"
     ]
    }
   ],
   "source": [
    "val_loader = torch.utils.data.DataLoader(cifar2_val, batch_size=64,shuffle=False)\n",
    "\n",
    "correct = 0\n",
    "total = 0\n",
    "with torch.no_grad():\n",
    "    for imgs, labels in val_loader:\n",
    "        batch_size = imgs.shape[0]\n",
    "        outputs = model(imgs.view(batch_size, -1))\n",
    "        _, predicted = torch.max(outputs, dim=1)\n",
    "        total += labels.shape[0]\n",
    "        correct += int((predicted == labels).sum())\n",
    "\n",
    "print(\"Accuracy: %f\",format( correct / total))"
   ]
  },
  {
   "cell_type": "markdown",
   "metadata": {},
   "source": [
    "**CrossEntropyLoss vs Negative Loglikehood**\n",
    "\n",
    "https://discuss.pytorch.org/t/difference-between-cross-entropy-loss-or-log-likelihood-loss/38816/2\n",
    "\n",
    "https://discuss.pytorch.org/t/is-log-softmax-nllloss-crossentropyloss/9352"
   ]
  },
  {
   "cell_type": "code",
   "execution_count": 34,
   "metadata": {},
   "outputs": [],
   "source": [
    "model = nn.Sequential(\n",
    "nn.Linear(3072, 1024),\n",
    "nn.Tanh(),\n",
    "nn.Linear(1024, 512),\n",
    "nn.Tanh(),\n",
    "nn.Linear(512, 128),\n",
    "nn.Tanh(),\n",
    "nn.Linear(128, 2))\n",
    "loss_fn = nn.CrossEntropyLoss()"
   ]
  },
  {
   "cell_type": "code",
   "execution_count": 35,
   "metadata": {},
   "outputs": [
    {
     "name": "stdout",
     "output_type": "stream",
     "text": [
      "Epoch: 0, Loss: 0.678014\n",
      "Epoch: 1, Loss: 0.677991\n",
      "Epoch: 2, Loss: 0.681271\n",
      "Epoch: 3, Loss: 0.683395\n",
      "Epoch: 4, Loss: 0.686967\n",
      "Epoch: 5, Loss: 0.683250\n",
      "Epoch: 6, Loss: 0.695043\n",
      "Epoch: 7, Loss: 0.672982\n",
      "Epoch: 8, Loss: 0.687277\n",
      "Epoch: 9, Loss: 0.678163\n",
      "Epoch: 10, Loss: 0.673666\n",
      "Epoch: 11, Loss: 0.697849\n",
      "Epoch: 12, Loss: 0.687613\n",
      "Epoch: 13, Loss: 0.670645\n",
      "Epoch: 14, Loss: 0.675446\n",
      "Epoch: 15, Loss: 0.675562\n",
      "Epoch: 16, Loss: 0.681900\n",
      "Epoch: 17, Loss: 0.689112\n",
      "Epoch: 18, Loss: 0.673557\n",
      "Epoch: 19, Loss: 0.684123\n",
      "Epoch: 20, Loss: 0.684820\n",
      "Epoch: 21, Loss: 0.689459\n",
      "Epoch: 22, Loss: 0.697348\n",
      "Epoch: 23, Loss: 0.688172\n",
      "Epoch: 24, Loss: 0.679374\n",
      "Epoch: 25, Loss: 0.679256\n",
      "Epoch: 26, Loss: 0.685537\n",
      "Epoch: 27, Loss: 0.682556\n",
      "Epoch: 28, Loss: 0.662182\n",
      "Epoch: 29, Loss: 0.672004\n",
      "Epoch: 30, Loss: 0.692190\n",
      "Epoch: 31, Loss: 0.688205\n",
      "Epoch: 32, Loss: 0.684494\n",
      "Epoch: 33, Loss: 0.678634\n",
      "Epoch: 34, Loss: 0.676054\n",
      "Epoch: 35, Loss: 0.677337\n",
      "Epoch: 36, Loss: 0.688876\n",
      "Epoch: 37, Loss: 0.697952\n",
      "Epoch: 38, Loss: 0.694994\n",
      "Epoch: 39, Loss: 0.684535\n",
      "Epoch: 40, Loss: 0.683753\n",
      "Epoch: 41, Loss: 0.674814\n",
      "Epoch: 42, Loss: 0.682374\n",
      "Epoch: 43, Loss: 0.696791\n",
      "Epoch: 44, Loss: 0.686631\n",
      "Epoch: 45, Loss: 0.688999\n",
      "Epoch: 46, Loss: 0.676616\n",
      "Epoch: 47, Loss: 0.671349\n",
      "Epoch: 48, Loss: 0.663920\n",
      "Epoch: 49, Loss: 0.664234\n",
      "Epoch: 50, Loss: 0.676606\n",
      "Epoch: 51, Loss: 0.693070\n",
      "Epoch: 52, Loss: 0.690542\n",
      "Epoch: 53, Loss: 0.680914\n",
      "Epoch: 54, Loss: 0.665810\n",
      "Epoch: 55, Loss: 0.695920\n",
      "Epoch: 56, Loss: 0.672099\n",
      "Epoch: 57, Loss: 0.692295\n",
      "Epoch: 58, Loss: 0.664208\n",
      "Epoch: 59, Loss: 0.674874\n",
      "Epoch: 60, Loss: 0.703515\n",
      "Epoch: 61, Loss: 0.681751\n",
      "Epoch: 62, Loss: 0.679794\n",
      "Epoch: 63, Loss: 0.686262\n",
      "Epoch: 64, Loss: 0.660121\n",
      "Epoch: 65, Loss: 0.680202\n",
      "Epoch: 66, Loss: 0.691573\n",
      "Epoch: 67, Loss: 0.682563\n",
      "Epoch: 68, Loss: 0.681332\n",
      "Epoch: 69, Loss: 0.687509\n",
      "Epoch: 70, Loss: 0.683600\n",
      "Epoch: 71, Loss: 0.689006\n",
      "Epoch: 72, Loss: 0.683790\n",
      "Epoch: 73, Loss: 0.685835\n",
      "Epoch: 74, Loss: 0.698711\n",
      "Epoch: 75, Loss: 0.703136\n",
      "Epoch: 76, Loss: 0.682644\n",
      "Epoch: 77, Loss: 0.672110\n",
      "Epoch: 78, Loss: 0.680912\n",
      "Epoch: 79, Loss: 0.690604\n",
      "Epoch: 80, Loss: 0.684707\n",
      "Epoch: 81, Loss: 0.681897\n",
      "Epoch: 82, Loss: 0.683213\n",
      "Epoch: 83, Loss: 0.697378\n",
      "Epoch: 84, Loss: 0.679575\n",
      "Epoch: 85, Loss: 0.696636\n",
      "Epoch: 86, Loss: 0.663791\n",
      "Epoch: 87, Loss: 0.683675\n",
      "Epoch: 88, Loss: 0.699221\n",
      "Epoch: 89, Loss: 0.701751\n",
      "Epoch: 90, Loss: 0.683167\n",
      "Epoch: 91, Loss: 0.697263\n",
      "Epoch: 92, Loss: 0.713198\n",
      "Epoch: 93, Loss: 0.683705\n",
      "Epoch: 94, Loss: 0.668659\n",
      "Epoch: 95, Loss: 0.687930\n",
      "Epoch: 96, Loss: 0.682834\n",
      "Epoch: 97, Loss: 0.686261\n",
      "Epoch: 98, Loss: 0.688093\n",
      "Epoch: 99, Loss: 0.677052\n"
     ]
    }
   ],
   "source": [
    "n_epochs = 100\n",
    "for epoch in range(n_epochs):\n",
    "    for imgs, labels in train_loader:\n",
    "        batch_size = imgs.shape[0]\n",
    "        outputs = model(imgs.view(batch_size, -1))\n",
    "        loss = loss_fn(outputs, labels)\n",
    "        optimizer.zero_grad()\n",
    "        loss.backward()\n",
    "        optimizer.step()\n",
    "\n",
    "    print(\"Epoch: %d, Loss: %f\" % (epoch, float(loss)))"
   ]
  },
  {
   "cell_type": "code",
   "execution_count": 36,
   "metadata": {},
   "outputs": [
    {
     "name": "stdout",
     "output_type": "stream",
     "text": [
      "Accuracy: %f 0.5865\n"
     ]
    }
   ],
   "source": [
    "val_loader = torch.utils.data.DataLoader(cifar2_val, batch_size=64,shuffle=False)\n",
    "\n",
    "correct = 0\n",
    "total = 0\n",
    "with torch.no_grad():\n",
    "    for imgs, labels in val_loader:\n",
    "        batch_size = imgs.shape[0]\n",
    "        outputs = model(imgs.view(batch_size, -1))\n",
    "        _, predicted = torch.max(outputs, dim=1)\n",
    "        total += labels.shape[0]\n",
    "        correct += int((predicted == labels).sum())\n",
    "\n",
    "print(\"Accuracy: %f\",format( correct / total))"
   ]
  },
  {
   "cell_type": "code",
   "execution_count": 38,
   "metadata": {},
   "outputs": [
    {
     "data": {
      "text/plain": [
       "(3737474, [3145728, 1024, 524288, 512, 65536, 128, 256, 2])"
      ]
     },
     "execution_count": 38,
     "metadata": {},
     "output_type": "execute_result"
    }
   ],
   "source": [
    "numel_list = [p.numel()\n",
    "for p in model.parameters()\n",
    "if p.requires_grad == True]\n",
    "sum(numel_list), numel_list"
   ]
  },
  {
   "cell_type": "markdown",
   "metadata": {},
   "source": [
    "**Translation Invariant** Refer Book\n",
    "\n",
    "An airplane flying in the sky captured in a 32 × 32 image will be very roughly similar to\n",
    "a dark, cross-like shape on a blue background. A fully connected network as in figure\n",
    "7.15 would need to learn that when pixel 0,1 is dark, pixel 1,1 is also dark, and so on,\n",
    "that’s a good indication of an airplane. This is illustrated in the top half of figure 7.16.\n",
    "Shift the same airplane by one pixel or more as in the bottom half of the fig-\n",
    "ure, and the relationships between pixels will have to be relearned from scratch: this\n",
    "time, an airplane is likely when pixel 0,2 is dark, pixel 1,2 is dark, and so on. In more\n",
    "technical terms, a fully connected network is not translation invariant. This means a\n",
    "network that has been trained to recognize a Spitfire starting at position 4,4 will not\n",
    "be able to recognize the exact same Spitfire starting at position 8,8. We would then have\n",
    "to augment the dataset—that is, apply random translations to images during training—\n",
    "so the network would have a chance to see Spitfires all over the image, and we would\n",
    "need to do this for every image in the dataset"
   ]
  },
  {
   "cell_type": "markdown",
   "metadata": {},
   "source": [
    "### Conv Layer"
   ]
  },
  {
   "cell_type": "code",
   "execution_count": 35,
   "metadata": {},
   "outputs": [],
   "source": [
    "conv = nn.Conv2d(3, 16, kernel_size=3)"
   ]
  },
  {
   "cell_type": "code",
   "execution_count": 36,
   "metadata": {},
   "outputs": [],
   "source": [
    "img, label = cifar_2[0]\n",
    "img = img.unsqueeze(0)"
   ]
  },
  {
   "cell_type": "code",
   "execution_count": 37,
   "metadata": {},
   "outputs": [
    {
     "data": {
      "text/plain": [
       "torch.Size([1, 3, 32, 32])"
      ]
     },
     "execution_count": 37,
     "metadata": {},
     "output_type": "execute_result"
    }
   ],
   "source": [
    "img.shape"
   ]
  },
  {
   "cell_type": "code",
   "execution_count": 38,
   "metadata": {},
   "outputs": [],
   "source": [
    "out = conv(img)"
   ]
  },
  {
   "cell_type": "code",
   "execution_count": 39,
   "metadata": {},
   "outputs": [
    {
     "data": {
      "text/plain": [
       "torch.Size([1, 16, 30, 30])"
      ]
     },
     "execution_count": 39,
     "metadata": {},
     "output_type": "execute_result"
    }
   ],
   "source": [
    "out.shape"
   ]
  },
  {
   "cell_type": "code",
   "execution_count": 40,
   "metadata": {},
   "outputs": [
    {
     "data": {
      "image/png": "[encoded data removed]",
      "text/plain": [
       "<Figure size 432x288 with 1 Axes>"
      ]
     },
     "metadata": {
      "needs_background": "light"
     },
     "output_type": "display_data"
    }
   ],
   "source": [
    "## The dimension are reduced bcz of kernel. \n",
    "plt.imshow(out[0, 0].detach(), cmap='gray')\n",
    "plt.show()"
   ]
  },
  {
   "cell_type": "code",
   "execution_count": 41,
   "metadata": {},
   "outputs": [
    {
     "data": {
      "image/png": "[encoded data removed]",
      "text/plain": [
       "<Figure size 432x288 with 1 Axes>"
      ]
     },
     "metadata": {
      "needs_background": "light"
     },
     "output_type": "display_data"
    }
   ],
   "source": [
    "plt.imshow(img[0,0].detach(), cmap='gray')\n",
    "plt.show()"
   ]
  },
  {
   "cell_type": "code",
   "execution_count": 42,
   "metadata": {},
   "outputs": [],
   "source": [
    "conv_pad = nn.Conv2d(3, 16, kernel_size=3, padding=1)"
   ]
  },
  {
   "cell_type": "code",
   "execution_count": 43,
   "metadata": {},
   "outputs": [
    {
     "data": {
      "text/plain": [
       "torch.Size([1, 16, 32, 32])"
      ]
     },
     "execution_count": 43,
     "metadata": {},
     "output_type": "execute_result"
    }
   ],
   "source": [
    "img, label = cifar_2[0]\n",
    "img = img.unsqueeze(0)\n",
    "out = conv_pad(img)\n",
    "out.shape"
   ]
  },
  {
   "cell_type": "code",
   "execution_count": 44,
   "metadata": {},
   "outputs": [
    {
     "data": {
      "text/plain": [
       "(torch.Size([1, 3, 32, 32]), torch.Size([1, 3, 16, 16]))"
      ]
     },
     "execution_count": 44,
     "metadata": {},
     "output_type": "execute_result"
    }
   ],
   "source": [
    "pool = nn.MaxPool2d(2)\n",
    "output = pool(img)\n",
    "img.shape, output.shape"
   ]
  },
  {
   "cell_type": "markdown",
   "metadata": {},
   "source": [
    "### Convolution Model"
   ]
  },
  {
   "cell_type": "code",
   "execution_count": 45,
   "metadata": {},
   "outputs": [],
   "source": [
    "model = nn.Sequential(\n",
    "nn.Conv2d(3, 16, kernel_size=3, padding=1),\n",
    "nn.Tanh(),\n",
    "nn.MaxPool2d(2),\n",
    "nn.Conv2d(16, 8, kernel_size=3, padding=1),\n",
    "nn.Tanh(),\n",
    "nn.MaxPool2d(2),\n",
    "# ...\n",
    "nn.Linear(8 * 8 * 8, 32),\n",
    "nn.Tanh(),\n",
    "nn.Linear(32, 2))"
   ]
  },
  {
   "cell_type": "code",
   "execution_count": 46,
   "metadata": {},
   "outputs": [
    {
     "data": {
      "text/plain": [
       "(18090, [432, 16, 1152, 8, 16384, 32, 64, 2])"
      ]
     },
     "execution_count": 46,
     "metadata": {},
     "output_type": "execute_result"
    }
   ],
   "source": [
    "numel_list = [p.numel() for p in model.parameters()]\n",
    "sum(numel_list), numel_list"
   ]
  },
  {
   "cell_type": "markdown",
   "metadata": {},
   "source": [
    "### Building Convolution Model using nn.Module"
   ]
  },
  {
   "cell_type": "code",
   "execution_count": 47,
   "metadata": {},
   "outputs": [],
   "source": [
    "class net(nn.Module):\n",
    "    def __init__(self):\n",
    "        super().__init__()\n",
    "        self.conv1 = nn.Conv2d(3, 16, kernel_size=3, padding=1)\n",
    "        self.act1 = nn.Tanh()\n",
    "        self.max1 = nn.MaxPool2d(2)\n",
    "        self.conv2 = nn.Conv2d(16, 8, kernel_size=3, padding=1)\n",
    "        self.act2 = nn.Tanh()\n",
    "        self.max2 = nn.MaxPool2d(2)\n",
    "        self.fc1 = nn.Linear(8 * 8 * 8, 32)\n",
    "        self.act3 = nn.Tanh()\n",
    "        self.fc2 = nn.Linear(32, 2)\n",
    "        \n",
    "    def forward(self, x):\n",
    "        out = self.max1(self.act1(self.conv1(x)))\n",
    "        out = self.max2(self.act2(self.conv2(out)))\n",
    "        out = out.view(-1, 8 * 8 * 8) # in above model ... was missing this line !\n",
    "        out = self.act3(self.fc1(out))\n",
    "        out = self.fc2(out)\n",
    "        \n",
    "        return out"
   ]
  },
  {
   "cell_type": "code",
   "execution_count": 48,
   "metadata": {},
   "outputs": [
    {
     "data": {
      "text/plain": [
       "(18090, [432, 16, 1152, 8, 16384, 32, 64, 2])"
      ]
     },
     "execution_count": 48,
     "metadata": {},
     "output_type": "execute_result"
    }
   ],
   "source": [
    "model = net()\n",
    "numel_list = [p.numel() for p in model.parameters()]\n",
    "sum(numel_list), numel_list"
   ]
  },
  {
   "cell_type": "markdown",
   "metadata": {},
   "source": [
    "3C * 3 * 3 * 16 = 432 #16 Output Channel - From Conv1 Layer\n",
    "\n",
    "16C = 16 # tanh\n",
    "\n",
    "16C * 3 * 3 * 8 = 1152 #8 Output Channel - From Conv2 Layer\n",
    "\n",
    "8C = 8 # tanh\n",
    "\n",
    "8C * 8H * 8W * 32 = 16384 #32 Output Channel from Linear Layer 1\n",
    "\n",
    "32C = 32 # tanh\n",
    "\n",
    "32C * 2 = 64 #2 Output Layer from Linear Layer 2\n",
    "\n",
    "2 Class Probabilities "
   ]
  },
  {
   "cell_type": "code",
   "execution_count": 49,
   "metadata": {},
   "outputs": [
    {
     "data": {
      "text/plain": [
       "net(\n",
       "  (conv1): Conv2d(3, 16, kernel_size=(3, 3), stride=(1, 1), padding=(1, 1))\n",
       "  (act1): Tanh()\n",
       "  (max1): MaxPool2d(kernel_size=2, stride=2, padding=0, dilation=1, ceil_mode=False)\n",
       "  (conv2): Conv2d(16, 8, kernel_size=(3, 3), stride=(1, 1), padding=(1, 1))\n",
       "  (act2): Tanh()\n",
       "  (max2): MaxPool2d(kernel_size=2, stride=2, padding=0, dilation=1, ceil_mode=False)\n",
       "  (fc1): Linear(in_features=512, out_features=32, bias=True)\n",
       "  (act3): Tanh()\n",
       "  (fc2): Linear(in_features=32, out_features=2, bias=True)\n",
       ")"
      ]
     },
     "execution_count": 49,
     "metadata": {},
     "output_type": "execute_result"
    }
   ],
   "source": [
    "model"
   ]
  },
  {
   "cell_type": "code",
   "execution_count": 50,
   "metadata": {},
   "outputs": [],
   "source": [
    "class Net(nn.Module):\n",
    "    def __init__(self):\n",
    "        super().__init__()\n",
    "        self.Conv1 = nn.Conv2d(3, 16, kernel_size=3, padding=1)\n",
    "        self.Conv2 = nn.Conv2d(16, 8, kernel_size=3, padding=1)\n",
    "        self.fc1 = nn.Linear(8*8*8, 32)\n",
    "        self.fc2 = nn.Linear(32, 2)\n",
    "        \n",
    "    def forward(self, x):\n",
    "        out = F.max_pool2d(torch.tanh(self.Conv1(x)),2)\n",
    "        out = F.max_pool2d(torch.tanh(self.Conv2(out)),2)\n",
    "        out = out.view(-1, 8 * 8 * 8)\n",
    "        out = torch.tanh(self.fc1(out))\n",
    "        out = self.fc2(out)\n",
    "        \n",
    "        return out"
   ]
  },
  {
   "cell_type": "code",
   "execution_count": 51,
   "metadata": {},
   "outputs": [
    {
     "data": {
      "text/plain": [
       "tensor([[0.1333, 0.2398]], grad_fn=<AddmmBackward>)"
      ]
     },
     "execution_count": 51,
     "metadata": {},
     "output_type": "execute_result"
    }
   ],
   "source": [
    "model = Net()\n",
    "model(img)"
   ]
  },
  {
   "cell_type": "code",
   "execution_count": 52,
   "metadata": {},
   "outputs": [],
   "source": [
    "import datetime\n",
    "\n",
    "def training_loop(n_epochs, optimizer, model, loss_fn, train_loader):\n",
    "    for epoch in range(1, n_epochs + 1):\n",
    "        loss_train = 0.0\n",
    "        \"\"\"\n",
    "        Loops over our dataset in the batches the data loader creates for us\n",
    "        \"\"\"\n",
    "        for imgs, labels in train_loader:\n",
    "            #Feeds a batch through our model ...\n",
    "            outputs = model(imgs)\n",
    "            \n",
    "            # ... and computes the loss we wish to minimize\n",
    "            loss = loss_fn(outputs, labels)\n",
    "            \n",
    "            #After getting rid of the gradients from the last round ...\n",
    "            optimizer.zero_grad()\n",
    "            \n",
    "            #... performs the backward step. That is, we compute the gradients of all parameters we want the network to learn.\n",
    "            loss.backward()\n",
    "            \n",
    "            # Updates the model\n",
    "            optimizer.step()\n",
    "            \n",
    "            loss_train += loss.item()\n",
    "            \n",
    "        if epoch == 1 or epoch % 10 == 0:\n",
    "\n",
    "            print('{} Epoch {}, Training loss {}'.format(\n",
    "            datetime.datetime.now(), epoch,\n",
    "            loss_train / len(train_loader)))"
   ]
  },
  {
   "cell_type": "code",
   "execution_count": 53,
   "metadata": {},
   "outputs": [],
   "source": [
    "train_loader = torch.utils.data.DataLoader(cifar_2, batch_size=64,\n",
    "shuffle=True)"
   ]
  },
  {
   "cell_type": "code",
   "execution_count": 54,
   "metadata": {},
   "outputs": [],
   "source": [
    "model = Net()"
   ]
  },
  {
   "cell_type": "code",
   "execution_count": 55,
   "metadata": {},
   "outputs": [],
   "source": [
    "optimizer = optim.SGD(model.parameters(), lr=1e-2)\n",
    "loss_fn = nn.CrossEntropyLoss()"
   ]
  },
  {
   "cell_type": "code",
   "execution_count": 56,
   "metadata": {},
   "outputs": [
    {
     "name": "stdout",
     "output_type": "stream",
     "text": [
      "2020-07-17 16:37:20.686576 Epoch 1, Training loss 0.6239917893318614\n",
      "2020-07-17 16:37:31.812774 Epoch 10, Training loss 0.35999924969521296\n",
      "2020-07-17 16:37:44.041104 Epoch 20, Training loss 0.31443331718065176\n",
      "2020-07-17 16:37:57.989455 Epoch 30, Training loss 0.2892987493686615\n",
      "2020-07-17 16:38:11.323510 Epoch 40, Training loss 0.2684701074175774\n",
      "2020-07-17 16:38:24.219665 Epoch 50, Training loss 0.25094598731037915\n",
      "2020-07-17 16:38:36.345529 Epoch 60, Training loss 0.23674602550306137\n",
      "2020-07-17 16:38:49.225030 Epoch 70, Training loss 0.22076270715066582\n",
      "2020-07-17 16:39:02.234376 Epoch 80, Training loss 0.20623055717368036\n",
      "2020-07-17 16:39:15.187303 Epoch 90, Training loss 0.1959344895592161\n",
      "2020-07-17 16:39:28.161248 Epoch 100, Training loss 0.18336010524991211\n",
      "CPU times: user 29min 32s, sys: 42.6 s, total: 30min 14s\n",
      "Wall time: 2min 8s\n"
     ]
    }
   ],
   "source": [
    "%%time\n",
    "training_loop(\n",
    "n_epochs = 100,\n",
    "optimizer = optimizer,\n",
    "model = model,\n",
    "loss_fn = loss_fn,\n",
    "train_loader = train_loader,\n",
    ")"
   ]
  },
  {
   "cell_type": "code",
   "execution_count": 57,
   "metadata": {},
   "outputs": [
    {
     "name": "stdout",
     "output_type": "stream",
     "text": [
      "Accuracy train: 0.90\n",
      "Accuracy val: 0.86\n"
     ]
    }
   ],
   "source": [
    "train_loader = torch.utils.data.DataLoader(cifar_2, batch_size=64,\n",
    "shuffle=False)\n",
    "val_loader = torch.utils.data.DataLoader(cifar2_val, batch_size=64,\n",
    "shuffle=False)\n",
    "def validate(model, train_loader, val_loader):\n",
    "    for name, loader in [(\"train\", train_loader), (\"val\", val_loader)]:\n",
    "        correct = 0\n",
    "        total = 0\n",
    "        with torch.no_grad():\n",
    "            for imgs, labels in loader:\n",
    "                outputs = model(imgs)\n",
    "                _, predicted = torch.max(outputs, dim=1)\n",
    "                total += labels.shape[0]\n",
    "                correct += int((predicted == labels).sum())\n",
    "                \n",
    "        print(\"Accuracy {}: {:.2f}\".format(name , correct / total))\n",
    "        \n",
    "validate(model, train_loader, val_loader)"
   ]
  },
  {
   "cell_type": "code",
   "execution_count": 60,
   "metadata": {},
   "outputs": [],
   "source": [
    "torch.save(model.state_dict(), \"model/\" + 'birds_vs_airplanes.pt')"
   ]
  },
  {
   "cell_type": "code",
   "execution_count": 61,
   "metadata": {},
   "outputs": [
    {
     "data": {
      "text/plain": [
       "<All keys matched successfully>"
      ]
     },
     "execution_count": 61,
     "metadata": {},
     "output_type": "execute_result"
    }
   ],
   "source": [
    "loaded_model = Net()\n",
    "loaded_model.load_state_dict(torch.load(\"model/\" + 'birds_vs_airplanes.pt'))"
   ]
  },
  {
   "cell_type": "code",
   "execution_count": 81,
   "metadata": {},
   "outputs": [],
   "source": [
    "# img, label = cifar2_val[0]\n",
    "\n",
    "# loaded_model.eval()\n",
    "# with torch.no_grad():\n",
    "    \n",
    "#     output = loaded_model(img.unsqueeze(0))\n",
    "#     _, predicted = torch.max(output, dim=1)\n",
    "#     print(predicted.item())\n",
    "#     print(class_names[label])"
   ]
  },
  {
   "cell_type": "code",
   "execution_count": 80,
   "metadata": {},
   "outputs": [
    {
     "name": "stderr",
     "output_type": "stream",
     "text": [
      "Clipping input data to the valid range for imshow with RGB data ([0..1] for floats or [0..255] for integers).\n"
     ]
    },
    {
     "data": {
      "image/png": "[encoded data removed]",
      "text/plain": [
       "<Figure size 432x288 with 1 Axes>"
      ]
     },
     "metadata": {
      "needs_background": "light"
     },
     "output_type": "display_data"
    }
   ],
   "source": [
    "plt.imshow(img.permute(1,2,0))\n",
    "plt.savefig('/home/mayur/Desktop/Model_Deployment/plane.jpg')"
   ]
  },
  {
   "cell_type": "markdown",
   "metadata": {},
   "source": [
    "### Training on Cuda"
   ]
  },
  {
   "cell_type": "code",
   "execution_count": 86,
   "metadata": {},
   "outputs": [
    {
     "name": "stdout",
     "output_type": "stream",
     "text": [
      "Training on device cuda.\n"
     ]
    }
   ],
   "source": [
    "device = (torch.device('cuda') if torch.cuda.is_available() else torch.device('cpu'))\n",
    "print(f\"Training on device {device}.\")"
   ]
  },
  {
   "cell_type": "code",
   "execution_count": 87,
   "metadata": {},
   "outputs": [],
   "source": [
    "import datetime\n",
    "\n",
    "def training_loop(n_epochs, optimizer, model, loss_fn, train_loader):\n",
    "    for epoch in range(1, n_epochs + 1):\n",
    "        loss_train = 0.0\n",
    "        \"\"\"\n",
    "        Loops over our dataset in the batches the data loader creates for us\n",
    "        \"\"\"\n",
    "        for imgs, labels in train_loader:\n",
    "            imgs = imgs.to(device=device)\n",
    "            labels = labels.to(device=device)\n",
    "            \n",
    "            #Feeds a batch through our model ...\n",
    "            outputs = model(imgs)\n",
    "            \n",
    "            # ... and computes the loss we wish to minimize\n",
    "            loss = loss_fn(outputs, labels)\n",
    "            \n",
    "            #After getting rid of the gradients from the last round ...\n",
    "            optimizer.zero_grad()\n",
    "            \n",
    "            #... performs the backward step. That is, we compute the gradients of all parameters we want the network to learn.\n",
    "            loss.backward()\n",
    "            \n",
    "            # Updates the model\n",
    "            optimizer.step()\n",
    "            \n",
    "            loss_train += loss.item()\n",
    "            \n",
    "        if epoch == 1 or epoch % 10 == 0:\n",
    "\n",
    "            print('{} Epoch {}, Training loss {}'.format(\n",
    "            datetime.datetime.now(), epoch,\n",
    "            loss_train / len(train_loader)))"
   ]
  },
  {
   "cell_type": "code",
   "execution_count": 88,
   "metadata": {},
   "outputs": [],
   "source": [
    "train_loader = torch.utils.data.DataLoader(cifar_2, batch_size=64,shuffle=True)"
   ]
  },
  {
   "cell_type": "code",
   "execution_count": 89,
   "metadata": {},
   "outputs": [
    {
     "name": "stdout",
     "output_type": "stream",
     "text": [
      "2020-07-12 20:22:51.042898 Epoch 1, Training loss 0.605764420358998\n",
      "2020-07-12 20:22:53.365773 Epoch 10, Training loss 0.37257426768351515\n",
      "2020-07-12 20:22:55.966001 Epoch 20, Training loss 0.3153013024170687\n",
      "2020-07-12 20:22:58.715658 Epoch 30, Training loss 0.28940475907675023\n",
      "2020-07-12 20:23:01.296965 Epoch 40, Training loss 0.2707495789049537\n",
      "2020-07-12 20:23:03.887686 Epoch 50, Training loss 0.24903670987885468\n",
      "2020-07-12 20:23:06.472710 Epoch 60, Training loss 0.23125037270936238\n",
      "2020-07-12 20:23:09.055006 Epoch 70, Training loss 0.21709420465549845\n",
      "2020-07-12 20:23:11.648606 Epoch 80, Training loss 0.20504711554118782\n",
      "2020-07-12 20:23:14.227783 Epoch 90, Training loss 0.18978152884419558\n",
      "2020-07-12 20:23:16.784610 Epoch 100, Training loss 0.1784428007853259\n",
      "CPU times: user 25.9 s, sys: 266 ms, total: 26.2 s\n",
      "Wall time: 26.1 s\n"
     ]
    }
   ],
   "source": [
    "%%time\n",
    "\n",
    "model = Net().to(device)\n",
    "optimizer = optim.SGD(model.parameters(), lr=1e-2)\n",
    "loss_fn = nn.CrossEntropyLoss()\n",
    "\n",
    "training_loop(\n",
    "n_epochs = 100,\n",
    "optimizer = optimizer,\n",
    "model = model,\n",
    "loss_fn = loss_fn,\n",
    "train_loader = train_loader,\n",
    ")"
   ]
  },
  {
   "cell_type": "markdown",
   "metadata": {},
   "source": [
    "## Ways to Reduce Overfitting"
   ]
  },
  {
   "cell_type": "markdown",
   "metadata": {},
   "source": [
    "### Regularization"
   ]
  },
  {
   "cell_type": "code",
   "execution_count": 90,
   "metadata": {},
   "outputs": [],
   "source": [
    "def training_loop_l2reg(n_epochs, optimizer, model, loss_fn,\n",
    "train_loader):\n",
    "    for epoch in range(1, n_epochs + 1):\n",
    "        loss_train = 0.0\n",
    "        for imgs, labels in train_loader:\n",
    "            \n",
    "            imgs = imgs.to(device=device)\n",
    "            labels = labels.to(device=device)\n",
    "            \n",
    "            outputs = model(imgs)\n",
    "            \n",
    "            loss = loss_fn(outputs, labels)\n",
    "            \n",
    "            l2_lambda = 0.001\n",
    "            l2_norm = sum(p.pow(2.0).sum() for p in model.parameters()) # Replaces pow(2.0) with abs() for L1 regularization\n",
    "            loss = loss + l2_lambda * l2_norm\n",
    "            \n",
    "            optimizer.zero_grad()\n",
    "            loss.backward()\n",
    "            optimizer.step()\n",
    "            loss_train += loss.item()\n",
    "\n",
    "        if epoch == 1 or epoch % 10 == 0:\n",
    "            print('{} Epoch {}, Training loss {}'.format(\n",
    "            datetime.datetime.now(), epoch,\n",
    "            loss_train / len(train_loader)))"
   ]
  },
  {
   "cell_type": "markdown",
   "metadata": {},
   "source": [
    "### Dropout"
   ]
  },
  {
   "cell_type": "code",
   "execution_count": 92,
   "metadata": {},
   "outputs": [],
   "source": [
    "class NetDropout(nn.Module):\n",
    "    def __init__(self, n_chans1=32):\n",
    "        super().__init__()\n",
    "        self.n_chans1 = n_chans1\n",
    "        self.conv1 = nn.Conv2d(3, n_chans1, kernel_size=3, padding=1)\n",
    "        self.conv1_dropout = nn.Dropout2d(p=0.4)\n",
    "        self.conv2 = nn.Conv2d(n_chans1, n_chans1 // 2, kernel_size=3,\n",
    "        padding=1)\n",
    "        self.conv2_dropout = nn.Dropout2d(p=0.4)\n",
    "        self.fc1 = nn.Linear(8 * 8 * n_chans1 // 2, 32)\n",
    "        self.fc2 = nn.Linear(32, 2)\n",
    "        \n",
    "    def forward(self, x):\n",
    "        out = F.max_pool2d(torch.tanh(self.conv1(x)), 2)\n",
    "        out = self.conv1_dropout(out)\n",
    "        out = F.max_pool2d(torch.tanh(self.conv2(out)), 2)\n",
    "        out = self.conv2_dropout(out)\n",
    "        out = out.view(-1, 8 * 8 * self.n_chans1 // 2)\n",
    "        out = torch.tanh(self.fc1(out))\n",
    "        out = self.fc2(out)\n",
    "        return out"
   ]
  },
  {
   "cell_type": "markdown",
   "metadata": {},
   "source": [
    "### Checking Distribution of Weights of trained model"
   ]
  },
  {
   "cell_type": "code",
   "execution_count": 98,
   "metadata": {},
   "outputs": [],
   "source": [
    "param = [p.view(-1) for p in model.parameters()]"
   ]
  },
  {
   "cell_type": "code",
   "execution_count": 121,
   "metadata": {},
   "outputs": [],
   "source": [
    "wgt = param[7].cpu().data.numpy()"
   ]
  },
  {
   "cell_type": "code",
   "execution_count": 107,
   "metadata": {},
   "outputs": [
    {
     "data": {
      "text/plain": [
       "(array([ 5., 13., 44., 80., 75., 81., 73., 51.,  7.,  3.]),\n",
       " array([-0.46112216, -0.369093  , -0.27706388, -0.18503472, -0.09300558,\n",
       "        -0.00097643,  0.09105272,  0.18308187,  0.27511102,  0.36714014,\n",
       "         0.4591693 ], dtype=float32),\n",
       " <a list of 10 Patch objects>)"
      ]
     },
     "execution_count": 107,
     "metadata": {},
     "output_type": "execute_result"
    },
    {
     "data": {
      "image/png": "[encoded data removed]",
      "text/plain": [
       "<Figure size 432x288 with 1 Axes>"
      ]
     },
     "metadata": {
      "needs_background": "light"
     },
     "output_type": "display_data"
    }
   ],
   "source": [
    "plt.hist(wgt)"
   ]
  },
  {
   "cell_type": "code",
   "execution_count": 109,
   "metadata": {},
   "outputs": [
    {
     "data": {
      "text/plain": [
       "(array([1., 1., 2., 2., 0., 3., 1., 1., 3., 2.]),\n",
       " array([-0.34008625, -0.29337847, -0.24667071, -0.19996293, -0.15325515,\n",
       "        -0.10654738, -0.0598396 , -0.01313183,  0.03357594,  0.08028372,\n",
       "         0.1269915 ], dtype=float32),\n",
       " <a list of 10 Patch objects>)"
      ]
     },
     "execution_count": 109,
     "metadata": {},
     "output_type": "execute_result"
    },
    {
     "data": {
      "image/png": "[encoded data removed]",
      "text/plain": [
       "<Figure size 432x288 with 1 Axes>"
      ]
     },
     "metadata": {
      "needs_background": "light"
     },
     "output_type": "display_data"
    }
   ],
   "source": [
    "plt.hist(wgt)"
   ]
  },
  {
   "cell_type": "code",
   "execution_count": 111,
   "metadata": {},
   "outputs": [
    {
     "data": {
      "text/plain": [
       "(array([ 15.,  56., 150., 238., 303., 229., 115.,  36.,   4.,   6.]),\n",
       " array([-0.2555791 , -0.19547646, -0.1353738 , -0.07527114, -0.01516848,\n",
       "         0.04493418,  0.10503684,  0.1651395 ,  0.22524217,  0.2853448 ,\n",
       "         0.34544748], dtype=float32),\n",
       " <a list of 10 Patch objects>)"
      ]
     },
     "execution_count": 111,
     "metadata": {},
     "output_type": "execute_result"
    },
    {
     "data": {
      "image/png": "[encoded data removed]",
      "text/plain": [
       "<Figure size 432x288 with 1 Axes>"
      ]
     },
     "metadata": {
      "needs_background": "light"
     },
     "output_type": "display_data"
    }
   ],
   "source": [
    "plt.hist(wgt)"
   ]
  },
  {
   "cell_type": "code",
   "execution_count": 113,
   "metadata": {},
   "outputs": [
    {
     "data": {
      "text/plain": [
       "(array([1., 2., 1., 0., 0., 1., 0., 1., 1., 1.]),\n",
       " array([-0.2366386 , -0.20400186, -0.17136511, -0.13872837, -0.10609162,\n",
       "        -0.07345487, -0.04081813, -0.00818138,  0.02445536,  0.05709211,\n",
       "         0.08972885], dtype=float32),\n",
       " <a list of 10 Patch objects>)"
      ]
     },
     "execution_count": 113,
     "metadata": {},
     "output_type": "execute_result"
    },
    {
     "data": {
      "image/png": "[encoded data removed]",
      "text/plain": [
       "<Figure size 432x288 with 1 Axes>"
      ]
     },
     "metadata": {
      "needs_background": "light"
     },
     "output_type": "display_data"
    }
   ],
   "source": [
    "plt.hist(wgt)"
   ]
  },
  {
   "cell_type": "code",
   "execution_count": 115,
   "metadata": {},
   "outputs": [
    {
     "data": {
      "text/plain": [
       "(array([  23.,  102.,  718., 3423., 4971., 4727., 2046.,  321.,   44.,\n",
       "           9.]),\n",
       " array([-0.14312217, -0.11343018, -0.08373819, -0.05404621, -0.02435423,\n",
       "         0.00533776,  0.03502975,  0.06472173,  0.09441371,  0.1241057 ,\n",
       "         0.15379769], dtype=float32),\n",
       " <a list of 10 Patch objects>)"
      ]
     },
     "execution_count": 115,
     "metadata": {},
     "output_type": "execute_result"
    },
    {
     "data": {
      "image/png": "[encoded data removed]",
      "text/plain": [
       "<Figure size 432x288 with 1 Axes>"
      ]
     },
     "metadata": {
      "needs_background": "light"
     },
     "output_type": "display_data"
    }
   ],
   "source": [
    "plt.hist(wgt)"
   ]
  },
  {
   "cell_type": "code",
   "execution_count": 117,
   "metadata": {},
   "outputs": [
    {
     "data": {
      "text/plain": [
       "(array([1., 1., 5., 4., 6., 5., 4., 3., 0., 3.]),\n",
       " array([-0.12240616, -0.10064252, -0.07887886, -0.05711522, -0.03535157,\n",
       "        -0.01358792,  0.00817573,  0.02993938,  0.05170303,  0.07346667,\n",
       "         0.09523033], dtype=float32),\n",
       " <a list of 10 Patch objects>)"
      ]
     },
     "execution_count": 117,
     "metadata": {},
     "output_type": "execute_result"
    },
    {
     "data": {
      "image/png": "[encoded data removed]",
      "text/plain": [
       "<Figure size 432x288 with 1 Axes>"
      ]
     },
     "metadata": {
      "needs_background": "light"
     },
     "output_type": "display_data"
    }
   ],
   "source": [
    "plt.hist(wgt)"
   ]
  },
  {
   "cell_type": "code",
   "execution_count": 119,
   "metadata": {},
   "outputs": [
    {
     "data": {
      "text/plain": [
       "(array([ 1.,  5.,  8., 12.,  3., 12.,  8., 11.,  3.,  1.]),\n",
       " array([-0.759473  , -0.60569566, -0.45191833, -0.29814097, -0.14436363,\n",
       "         0.00941372,  0.16319107,  0.3169684 ,  0.47074577,  0.6245231 ,\n",
       "         0.77830046], dtype=float32),\n",
       " <a list of 10 Patch objects>)"
      ]
     },
     "execution_count": 119,
     "metadata": {},
     "output_type": "execute_result"
    },
    {
     "data": {
      "image/png": "[encoded data removed]",
      "text/plain": [
       "<Figure size 432x288 with 1 Axes>"
      ]
     },
     "metadata": {
      "needs_background": "light"
     },
     "output_type": "display_data"
    }
   ],
   "source": [
    "plt.hist(wgt)"
   ]
  },
  {
   "cell_type": "code",
   "execution_count": 122,
   "metadata": {},
   "outputs": [
    {
     "data": {
      "text/plain": [
       "(array([1., 0., 0., 0., 0., 0., 0., 0., 0., 1.]),\n",
       " array([-1.0878402e-01, -8.7036297e-02, -6.5288581e-02, -4.3540858e-02,\n",
       "        -2.1793138e-02, -4.5418739e-05,  2.1702301e-02,  4.3450020e-02,\n",
       "         6.5197743e-02,  8.6945459e-02,  1.0869318e-01], dtype=float32),\n",
       " <a list of 10 Patch objects>)"
      ]
     },
     "execution_count": 122,
     "metadata": {},
     "output_type": "execute_result"
    },
    {
     "data": {
      "image/png": "[encoded data removed]",
      "text/plain": [
       "<Figure size 432x288 with 1 Axes>"
      ]
     },
     "metadata": {
      "needs_background": "light"
     },
     "output_type": "display_data"
    }
   ],
   "source": [
    "plt.hist(wgt)"
   ]
  },
  {
   "cell_type": "markdown",
   "metadata": {},
   "source": [
    "### Batch Normalization - \n",
    "\n",
    "Batch normalization is to rescale the inputs to the activa-\n",
    "tions of the network so that minibatches have a certain desirable distribution. Recall-\n",
    "ing the mechanics of learning and the role of nonlinear activation functions, this\n",
    "helps avoid the inputs to activation functions being too far into the saturated portion\n",
    "of the function, thereby killing gradients and slowing training.\n",
    "In practical terms, batch normalization shifts and scales an intermediate input\n",
    "using the mean and standard deviation collected at that intermediate location over\n",
    "the samples of the minibatch. The regularization effect is a result of the fact that an\n",
    "individual sample and its downstream activations are always seen by the model as\n",
    "shifted and scaled, depending on the statistics across the randomly extracted mini-\n",
    "batch. This is in itself a form of principled augmentation.\n",
    "\n",
    "Since the aim for batch normalization is to rescale the inputs of the activa-\n",
    "tions, the natural location is after the linear transformation (convolution, in this case)"
   ]
  },
  {
   "cell_type": "code",
   "execution_count": 124,
   "metadata": {},
   "outputs": [],
   "source": [
    "class NetBatchNorm(nn.Module):\n",
    "    def __init__(self, n_chans1=32):\n",
    "        super().__init__()\n",
    "        self.n_chans1 = n_chans1\n",
    "        self.conv1 = nn.Conv2d(3, n_chans1, kernel_size=3, padding=1)\n",
    "        self.conv1_batchnorm = nn.BatchNorm2d(num_features=n_chans1)\n",
    "        self.conv2 = nn.Conv2d(n_chans1, n_chans1 // 2, kernel_size=3,\n",
    "        padding=1)\n",
    "        self.conv2_batchnorm = nn.BatchNorm2d(num_features=n_chans1 // 2)\n",
    "        self.fc1 = nn.Linear(8 * 8 * n_chans1 // 2, 32)\n",
    "        self.fc2 = nn.Linear(32, 2)\n",
    "    def forward(self, x):\n",
    "        out = self.conv1_batchnorm(self.conv1(x))\n",
    "        out = F.max_pool2d(torch.tanh(out), 2)\n",
    "        out = self.conv2_batchnorm(self.conv2(out))\n",
    "        out = F.max_pool2d(torch.tanh(out), 2)\n",
    "        out = out.view(-1, 8 * 8 * self.n_chans1 // 2)\n",
    "        out = torch.tanh(self.fc1(out))\n",
    "        out = self.fc2(out)\n",
    "        return out"
   ]
  },
  {
   "cell_type": "markdown",
   "metadata": {},
   "source": [
    "### Depth of Neural Networks\n",
    "\n",
    "**As the depth of the network increase the gradients tends to move to zero, causing Vanishing Gradient Problem, which is over come by Skip Conections**\n",
    "\n",
    "**A skip connection is nothing but the addition of the input to the output of a block of layers. This is exactly how it is done in PyTorch**"
   ]
  },
  {
   "cell_type": "code",
   "execution_count": 125,
   "metadata": {},
   "outputs": [],
   "source": [
    "class NetDepth(nn.Module):\n",
    "    def __init__(self, n_chans1=32):\n",
    "        super().__init__()\n",
    "        self.n_chans1 = n_chans1\n",
    "        self.conv1 = nn.Conv2d(3, n_chans1, kernel_size=3, padding=1)\n",
    "        self.conv2 = nn.Conv2d(n_chans1, n_chans1 // 2, kernel_size=3,\n",
    "        padding=1)\n",
    "        self.conv3 = nn.Conv2d(n_chans1 // 2, n_chans1 // 2,\n",
    "        kernel_size=3, padding=1)\n",
    "        self.fc1 = nn.Linear(4 * 4 * n_chans1 // 2, 32)\n",
    "        self.fc2 = nn.Linear(32, 2)\n",
    "        \n",
    "    def forward(self, x):\n",
    "        out = F.max_pool2d(torch.relu(self.conv1(x)), 2)\n",
    "        out = F.max_pool2d(torch.relu(self.conv2(out)), 2)\n",
    "        out = F.max_pool2d(torch.relu(self.conv3(out)), 2)\n",
    "        out = out.view(-1, 4 * 4 * self.n_chans1 // 2)\n",
    "        out = torch.relu(self.fc1(out))\n",
    "        out = self.fc2(out)\n",
    "        return out"
   ]
  },
  {
   "cell_type": "markdown",
   "metadata": {},
   "source": [
    "**The Idea of adding skip connection was originated from residual networks (Resnet). Adding a skip connection a la ResNet to this model amounts to adding the output of the first layer in the forward function to the input of the third layer**"
   ]
  },
  {
   "cell_type": "code",
   "execution_count": 127,
   "metadata": {},
   "outputs": [],
   "source": [
    "class NetRes(nn.Module):\n",
    "    \n",
    "    def __init__(self, n_chans1=32):\n",
    "        super().__init__()\n",
    "        self.n_chans1 = n_chans1\n",
    "        self.conv1 = nn.Conv2d(3, n_chans1, kernel_size=3, padding=1)\n",
    "        self.conv2 = nn.Conv2d(n_chans1, n_chans1 // 2, kernel_size=3,\n",
    "        padding=1)\n",
    "        self.conv3 = nn.Conv2d(n_chans1 // 2, n_chans1 // 2,\n",
    "        kernel_size=3, padding=1)\n",
    "        self.fc1 = nn.Linear(4 * 4 * n_chans1 // 2, 32)\n",
    "        self.fc2 = nn.Linear(32, 2)\n",
    "        \n",
    "    def forward(self, x):\n",
    "        out = F.max_pool2d(torch.relu(self.conv1(x)), 2)\n",
    "        out = F.max_pool2d(torch.relu(self.conv2(out)), 2)\n",
    "        out1 = out\n",
    "        out = F.max_pool2d(torch.relu(self.conv3(out)) + out1, 2)\n",
    "        out = out.view(-1, 4 * 4 * self.n_chans1 // 2)\n",
    "        out = torch.relu(self.fc1(out))\n",
    "        out = self.fc2(out)\n",
    "    \n",
    "        return out"
   ]
  },
  {
   "cell_type": "markdown",
   "metadata": {},
   "source": [
    "*What's happening above ?*\n",
    "\n",
    "**In other words, we’re using the output of the first activations as inputs to the last, in\n",
    "addition to the standard feed-forward path. This is also referred to as identity mapping.**\n",
    "\n",
    "*So, how does this alleviate the issues with vanishing gradients we were mentioning\n",
    "earlier?*\n",
    "\n",
    "**Thinking about backpropagation, we can appreciate that a skip connection, or a\n",
    "sequence of skip connections in a deep network, creates a direct path from the deeper\n",
    "parameters to the loss. This makes their contribution to the gradient of the loss more\n",
    "direct, as partial derivatives of the loss with respect to those parameters have a chance\n",
    "not to be multiplied by a long chain of other operations.\n",
    "It has been observed that skip connections have a beneficial effect on convergence\n",
    "especially in the initial phases of training. Also, the loss landscape of deep residual\n",
    "networks is a lot smoother than feed-forward networks of the same depth and width.**"
   ]
  },
  {
   "cell_type": "markdown",
   "metadata": {},
   "source": [
    "### Building 100 Layer Network "
   ]
  },
  {
   "cell_type": "code",
   "execution_count": 129,
   "metadata": {},
   "outputs": [],
   "source": [
    "class ResBlock(nn.Module):\n",
    "\n",
    "    def __init__(self, n_chans):\n",
    "        super(ResBlock, self).__init__()\n",
    "        self.conv = nn.Conv2d(n_chans, n_chans, kernel_size=3,\n",
    "        padding=1, bias=False)\n",
    "        self.batch_norm = nn.BatchNorm2d(num_features=n_chans)\n",
    "        torch.nn.init.kaiming_normal_(self.conv.weight,\n",
    "        nonlinearity='relu')\n",
    "        torch.nn.init.constant_(self.batch_norm.weight, 0.5)\n",
    "        torch.nn.init.zeros_(self.batch_norm.bias)\n",
    "        \n",
    "    def forward(self, x):\n",
    "        out = self.conv(x)\n",
    "        out = self.batch_norm(out)\n",
    "        out = torch.relu(out)\n",
    "        \n",
    "        return out + x"
   ]
  },
  {
   "cell_type": "markdown",
   "metadata": {},
   "source": [
    "The BatchNorm layer would cancel the effect of bias, so it is customarily left out, as in bias=False.\n",
    "\n",
    "Uses custom initializations\n",
    ". kaiming_normal_ initializes with\n",
    "normal random elements with standard\n",
    "deviation as computed in the ResNet paper.\n",
    "The batch norm is initialized to produce output\n",
    "distributions that initially have 0 mean and 0.5 variance."
   ]
  },
  {
   "cell_type": "code",
   "execution_count": 130,
   "metadata": {},
   "outputs": [],
   "source": [
    "class NetResDeep(nn.Module):\n",
    "    def __init__(self, n_chans1=32, n_blocks=10):\n",
    "        super().__init__()\n",
    "        self.n_chans1 = n_chans1\n",
    "        self.conv1 = nn.Conv2d(3, n_chans1, kernel_size=3, padding=1)\n",
    "        self.resblocks = nn.Sequential(\n",
    "        *(n_blocks * [ResBlock(n_chans=n_chans1)]))\n",
    "        self.fc1 = nn.Linear(8 * 8 * n_chans1, 32)\n",
    "        self.fc2 = nn.Linear(32, 2)\n",
    "    def forward(self, x):\n",
    "        out = F.max_pool2d(torch.relu(self.conv1(x)), 2)\n",
    "        out = self.resblocks(out)\n",
    "        out = F.max_pool2d(out, 2)\n",
    "        out = out.view(-1, 8 * 8 * self.n_chans1)\n",
    "        out = torch.relu(self.fc1(out))\n",
    "        out = self.fc2(out)\n",
    "        return out"
   ]
  },
  {
   "cell_type": "code",
   "execution_count": 161,
   "metadata": {},
   "outputs": [],
   "source": [
    "### Keeping Images intact with padding "
   ]
  },
  {
   "cell_type": "code",
   "execution_count": 160,
   "metadata": {},
   "outputs": [
    {
     "data": {
      "text/plain": [
       "torch.Size([1, 32, 28, 28])"
      ]
     },
     "execution_count": 160,
     "metadata": {},
     "output_type": "execute_result"
    }
   ],
   "source": [
    "conv_pad = nn.Conv2d(3, 32, kernel_size=5, padding=2)\n",
    "img, label = cifar_2[0]\n",
    "img = img.unsqueeze(0)\n",
    "out = conv_pad(img)\n",
    "out.shape"
   ]
  },
  {
   "cell_type": "code",
   "execution_count": 189,
   "metadata": {},
   "outputs": [],
   "source": [
    "### Exercises -> width - kernel_size + 1\n",
    "class NN_Model(nn.Module):\n",
    "    def __init__(self, n_channel):\n",
    "        super().__init__()\n",
    "        self.n_channel = n_channel\n",
    "        self.conv1 = nn.Conv2d(3, n_channel, kernel_size=5, padding=2)\n",
    "        self.bn1 = nn.BatchNorm2d(num_features=n_channel)\n",
    "        self.conv2 = nn.Conv2d(n_channel, n_channel//2, kernel_size=5, padding=2)\n",
    "        self.bn2 = nn.BatchNorm2d(num_features=n_channel//2)\n",
    "        self.fc1 = nn.Linear(8 * 8 * n_channel//2 , 32)\n",
    "        self.fc2 = nn.Linear(32, 2)\n",
    "        \n",
    "    def forward(self, x):\n",
    "        out = self.bn1(self.conv1(x))\n",
    "        out = F.max_pool2d(torch.tanh(out), 2)\n",
    "        out = self.bn2(self.conv2(out))\n",
    "        out = F.max_pool2d(torch.tanh(out), 2)\n",
    "        out = out.view(-1, 8 * 8 * self.n_channel // 2)\n",
    "        out = torch.tanh(self.fc1(out))\n",
    "        out = self.fc2(out)\n",
    "        return out"
   ]
  },
  {
   "cell_type": "code",
   "execution_count": 190,
   "metadata": {},
   "outputs": [],
   "source": [
    "fresh_model = NN_Model(n_channel=16)"
   ]
  },
  {
   "cell_type": "code",
   "execution_count": 191,
   "metadata": {},
   "outputs": [],
   "source": [
    "def training_loop(n_epochs, optimizer, model, loss_fn, train_loader):\n",
    "    for epoch in range(1, n_epochs+1):\n",
    "        loss_train = 0.0\n",
    "        for img, label in train_loader:\n",
    "            img = img.to('cuda')\n",
    "            label = label.to('cuda')\n",
    "            output = model(img)\n",
    "            \n",
    "            loss = loss_fn(output, label)\n",
    "            optimizer.zero_grad()\n",
    "            loss.backward()\n",
    "            optimizer.step()\n",
    "            \n",
    "        if epoch % 10 == 0:\n",
    "            print(f'Epoch: {epoch}, Loss: {loss}')"
   ]
  },
  {
   "cell_type": "code",
   "execution_count": 192,
   "metadata": {},
   "outputs": [
    {
     "data": {
      "text/plain": [
       "NN_Model(\n",
       "  (conv1): Conv2d(3, 16, kernel_size=(5, 5), stride=(1, 1), padding=(2, 2))\n",
       "  (bn1): BatchNorm2d(16, eps=1e-05, momentum=0.1, affine=True, track_running_stats=True)\n",
       "  (conv2): Conv2d(16, 8, kernel_size=(5, 5), stride=(1, 1), padding=(2, 2))\n",
       "  (bn2): BatchNorm2d(8, eps=1e-05, momentum=0.1, affine=True, track_running_stats=True)\n",
       "  (fc1): Linear(in_features=512, out_features=32, bias=True)\n",
       "  (fc2): Linear(in_features=32, out_features=2, bias=True)\n",
       ")"
      ]
     },
     "execution_count": 192,
     "metadata": {},
     "output_type": "execute_result"
    }
   ],
   "source": [
    "fresh_model.to('cuda')"
   ]
  },
  {
   "cell_type": "code",
   "execution_count": 193,
   "metadata": {},
   "outputs": [
    {
     "name": "stdout",
     "output_type": "stream",
     "text": [
      "Epoch: 10, Loss: 0.6395094990730286\n",
      "Epoch: 20, Loss: 0.6124091148376465\n",
      "Epoch: 30, Loss: 0.6007277965545654\n",
      "Epoch: 40, Loss: 0.5745313763618469\n",
      "Epoch: 50, Loss: 0.5408896207809448\n",
      "Epoch: 60, Loss: 0.5111746788024902\n",
      "Epoch: 70, Loss: 0.48889583349227905\n",
      "Epoch: 80, Loss: 0.4641161262989044\n",
      "Epoch: 90, Loss: 0.43953585624694824\n",
      "Epoch: 100, Loss: 0.41507869958877563\n"
     ]
    }
   ],
   "source": [
    "optimizer = optim.SGD(fresh_model.parameters(), lr=1e-3)\n",
    "loss = nn.CrossEntropyLoss()\n",
    "\n",
    "training_loop(n_epochs = 100,optimizer = optimizer,model = fresh_model,loss_fn = loss,train_loader = train_loader)"
   ]
  },
  {
   "cell_type": "code",
   "execution_count": 194,
   "metadata": {},
   "outputs": [
    {
     "name": "stdout",
     "output_type": "stream",
     "text": [
      "Accuracy train: 0.89\n",
      "Accuracy val: 0.88\n"
     ]
    }
   ],
   "source": [
    "train_loader = torch.utils.data.DataLoader(cifar_2, batch_size=64,\n",
    "shuffle=False)\n",
    "val_loader = torch.utils.data.DataLoader(cifar2_val, batch_size=64,\n",
    "shuffle=False)\n",
    "def validate(model, train_loader, val_loader):\n",
    "    for name, loader in [(\"train\", train_loader), (\"val\", val_loader)]:\n",
    "        correct = 0\n",
    "        total = 0\n",
    "        with torch.no_grad():\n",
    "            for imgs, labels in loader:\n",
    "                imgs = imgs.to('cuda')\n",
    "                labels = labels.to('cuda')\n",
    "                outputs = fresh_model(imgs)\n",
    "                _, predicted = torch.max(outputs, dim=1)\n",
    "                total += labels.shape[0]\n",
    "                correct += int((predicted == labels).sum())\n",
    "                \n",
    "        print(\"Accuracy {}: {:.2f}\".format(name , correct / total))\n",
    "        \n",
    "validate(model, train_loader, val_loader)"
   ]
  },
  {
   "cell_type": "markdown",
   "metadata": {},
   "source": [
    "### Changing Kernel from 5,5 to 1,3 - Lookout for padding"
   ]
  },
  {
   "cell_type": "code",
   "execution_count": 20,
   "metadata": {},
   "outputs": [
    {
     "data": {
      "text/plain": [
       "torch.Size([1, 32, 32, 32])"
      ]
     },
     "execution_count": 20,
     "metadata": {},
     "output_type": "execute_result"
    }
   ],
   "source": [
    "conv_pad = nn.Conv2d(3, 32, kernel_size=(1,3), padding=(0,1))\n",
    "img, label = cifar_2[0]\n",
    "img = img.unsqueeze(0)\n",
    "out = conv_pad(img)\n",
    "out.shape"
   ]
  },
  {
   "cell_type": "code",
   "execution_count": 45,
   "metadata": {},
   "outputs": [],
   "source": [
    "### Exercises -> width - kernel_size + 1\n",
    "class NN_Model_K(nn.Module):\n",
    "    def __init__(self, n_channel):\n",
    "        super().__init__()\n",
    "        self.n_channel = n_channel\n",
    "        self.conv1 = nn.Conv2d(3, n_channel, kernel_size=(1,3), padding=(0,1))\n",
    "        self.bn1 = nn.BatchNorm2d(num_features=n_channel)\n",
    "        self.conv2 = nn.Conv2d(n_channel, n_channel//2, kernel_size=(1,3), padding=(0,1))\n",
    "        self.bn2 = nn.BatchNorm2d(num_features=n_channel//2)\n",
    "        self.fc1 = nn.Linear(8 * 8 * n_channel//2 , 32)\n",
    "        self.fc2 = nn.Linear(32, 2)\n",
    "        \n",
    "    def forward(self, x):\n",
    "        out = self.bn1(self.conv1(x))\n",
    "        out = F.max_pool2d(torch.relu(out), 2)\n",
    "        out = self.bn2(self.conv2(out))\n",
    "        out = F.max_pool2d(torch.relu(out), 2)\n",
    "        out = out.view(-1, 8 * 8 * self.n_channel // 2)\n",
    "        out = torch.relu(self.fc1(out))\n",
    "        out = self.fc2(out)\n",
    "        return out"
   ]
  },
  {
   "cell_type": "code",
   "execution_count": 46,
   "metadata": {},
   "outputs": [],
   "source": [
    "fresh_model_k = NN_Model_K(n_channel=32)"
   ]
  },
  {
   "cell_type": "code",
   "execution_count": 47,
   "metadata": {},
   "outputs": [],
   "source": [
    "import datetime\n",
    "\n",
    "def training_loop(n_epochs, optimizer, model, loss_fn, train_loader):\n",
    "    for epoch in range(1, n_epochs+1):\n",
    "        loss_train = 0.0\n",
    "        for img, label in train_loader:\n",
    "            img = img.to('cuda')\n",
    "            label = label.to('cuda')\n",
    "            output = model(img)\n",
    "            \n",
    "            loss = loss_fn(output, label)\n",
    "            \n",
    "            loss_train += loss.item()\n",
    "            optimizer.zero_grad()\n",
    "            loss.backward()\n",
    "            optimizer.step()\n",
    "        \n",
    "        if epoch == 1 or epoch % 10 == 0:\n",
    "\n",
    "            print('{} Epoch {}, Training loss {}'.format(\n",
    "            datetime.datetime.now(), epoch,\n",
    "            loss_train / len(train_loader)))"
   ]
  },
  {
   "cell_type": "code",
   "execution_count": 48,
   "metadata": {},
   "outputs": [
    {
     "data": {
      "text/plain": [
       "NN_Model_K(\n",
       "  (conv1): Conv2d(3, 32, kernel_size=(1, 3), stride=(1, 1), padding=(0, 1))\n",
       "  (bn1): BatchNorm2d(32, eps=1e-05, momentum=0.1, affine=True, track_running_stats=True)\n",
       "  (conv2): Conv2d(32, 16, kernel_size=(1, 3), stride=(1, 1), padding=(0, 1))\n",
       "  (bn2): BatchNorm2d(16, eps=1e-05, momentum=0.1, affine=True, track_running_stats=True)\n",
       "  (fc1): Linear(in_features=1024, out_features=32, bias=True)\n",
       "  (fc2): Linear(in_features=32, out_features=2, bias=True)\n",
       ")"
      ]
     },
     "execution_count": 48,
     "metadata": {},
     "output_type": "execute_result"
    }
   ],
   "source": [
    "fresh_model_k.to('cuda')"
   ]
  },
  {
   "cell_type": "code",
   "execution_count": 50,
   "metadata": {},
   "outputs": [
    {
     "name": "stdout",
     "output_type": "stream",
     "text": [
      "2020-07-20 10:34:04.579627 Epoch 1, Training loss 0.6357857163544673\n",
      "2020-07-20 10:34:07.567076 Epoch 10, Training loss 0.3856166413255558\n",
      "2020-07-20 10:34:10.708750 Epoch 20, Training loss 0.3382227804250778\n",
      "2020-07-20 10:34:13.773509 Epoch 30, Training loss 0.3110316048382194\n",
      "2020-07-20 10:34:16.855919 Epoch 40, Training loss 0.2933084041259851\n",
      "2020-07-20 10:34:19.871960 Epoch 50, Training loss 0.28022247780660153\n",
      "2020-07-20 10:34:23.029456 Epoch 60, Training loss 0.26937293104685034\n",
      "2020-07-20 10:34:26.018041 Epoch 70, Training loss 0.25972320096697776\n",
      "2020-07-20 10:34:29.084593 Epoch 80, Training loss 0.2507866209574566\n",
      "2020-07-20 10:34:32.138758 Epoch 90, Training loss 0.24222446081175167\n",
      "2020-07-20 10:34:35.166683 Epoch 100, Training loss 0.23400165069444923\n"
     ]
    }
   ],
   "source": [
    "optimizer = optim.SGD(fresh_model_k.parameters(), lr=1e-3)\n",
    "loss = nn.CrossEntropyLoss()\n",
    "train_loader = torch.utils.data.DataLoader(cifar_2, batch_size=64,shuffle=False)\n",
    "training_loop(n_epochs = 100,optimizer = optimizer,model = fresh_model_k,loss_fn = loss,train_loader = train_loader)"
   ]
  },
  {
   "cell_type": "code",
   "execution_count": 51,
   "metadata": {},
   "outputs": [
    {
     "name": "stdout",
     "output_type": "stream",
     "text": [
      "Accuracy train: 0.90\n",
      "Accuracy val: 0.88\n"
     ]
    }
   ],
   "source": [
    "\n",
    "val_loader = torch.utils.data.DataLoader(cifar2_val, batch_size=64,\n",
    "shuffle=False)\n",
    "def validate(model, train_loader, val_loader):\n",
    "    for name, loader in [(\"train\", train_loader), (\"val\", val_loader)]:\n",
    "        correct = 0\n",
    "        total = 0\n",
    "        with torch.no_grad():\n",
    "            for imgs, labels in loader:\n",
    "                imgs = imgs.to('cuda')\n",
    "                labels = labels.to('cuda')\n",
    "                outputs = model(imgs)\n",
    "                _, predicted = torch.max(outputs, dim=1)\n",
    "                total += labels.shape[0]\n",
    "                correct += int((predicted == labels).sum())\n",
    "                \n",
    "        print(\"Accuracy {}: {:.2f}\".format(name , correct / total))\n",
    "        \n",
    "validate(fresh_model_k, train_loader, val_loader)"
   ]
  },
  {
   "cell_type": "code",
   "execution_count": 63,
   "metadata": {},
   "outputs": [],
   "source": [
    "torch.save(fresh_model_k.state_dict(), \"/home/mayur/Desktop/Model_Deployment/model/\" + 'birds_vs_airplanes.pt')"
   ]
  },
  {
   "cell_type": "code",
   "execution_count": null,
   "metadata": {},
   "outputs": [],
   "source": []
  }
 ],
 "metadata": {
  "kernelspec": {
   "display_name": "Python 3",
   "language": "python",
   "name": "python3"
  },
  "language_info": {
   "codemirror_mode": {
    "name": "ipython",
    "version": 3
   },
   "file_extension": ".py",
   "mimetype": "text/x-python",
   "name": "python",
   "nbconvert_exporter": "python",
   "pygments_lexer": "ipython3",
   "version": "3.7.6"
  }
 },
 "nbformat": 4,
 "nbformat_minor": 4
}
